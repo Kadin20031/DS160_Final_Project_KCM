{
 "cells": [
  {
   "cell_type": "markdown",
   "id": "2b461059",
   "metadata": {},
   "source": [
    "# Kadin McWilliams\n",
    "# Version 1\n",
    "# Spring 2024\n",
    "# Numpy to analyze the heart data"
   ]
  },
  {
   "cell_type": "code",
   "execution_count": 1,
   "id": "649a79a0",
   "metadata": {},
   "outputs": [],
   "source": [
    "# Loading the package\n",
    "import numpy as np"
   ]
  },
  {
   "cell_type": "markdown",
   "id": "44c513e3",
   "metadata": {},
   "source": [
    "### Loading the housing dataset from CSV file"
   ]
  },
  {
   "cell_type": "code",
   "execution_count": 3,
   "id": "8fc6db2e",
   "metadata": {},
   "outputs": [],
   "source": [
    "data=np.genfromtxt(\"Housing_new.csv\", delimiter=\",\", skip_header=True)"
   ]
  },
  {
   "cell_type": "code",
   "execution_count": 4,
   "id": "683b53fc",
   "metadata": {},
   "outputs": [
    {
     "data": {
      "text/plain": [
       "array([[1.330e+07, 7.420e+03, 4.000e+00, 2.000e+00, 2.000e+00],\n",
       "       [1.225e+07, 8.960e+03, 4.000e+00, 4.000e+00, 3.000e+00],\n",
       "       [1.225e+07, 9.960e+03, 3.000e+00, 2.000e+00, 2.000e+00],\n",
       "       ...,\n",
       "       [1.750e+06, 3.620e+03, 2.000e+00, 1.000e+00, 0.000e+00],\n",
       "       [1.750e+06, 2.910e+03, 3.000e+00, 1.000e+00, 0.000e+00],\n",
       "       [1.750e+06, 3.850e+03, 3.000e+00, 1.000e+00, 0.000e+00]])"
      ]
     },
     "execution_count": 4,
     "metadata": {},
     "output_type": "execute_result"
    }
   ],
   "source": [
    "data"
   ]
  },
  {
   "cell_type": "markdown",
   "id": "688a5d94",
   "metadata": {},
   "source": [
    "### Extracting relevent columns (eg. prices, area...)"
   ]
  },
  {
   "cell_type": "code",
   "execution_count": 12,
   "id": "8048a534",
   "metadata": {},
   "outputs": [
    {
     "name": "stdout",
     "output_type": "stream",
     "text": [
      "price: [13300000. 12250000. 12250000. 12215000. 11410000.]\n",
      "area: [7420. 8960. 9960. 7500. 7420.]\n",
      "bedrooms: [4. 4. 3. 4. 4.]\n",
      "bathrooms: [2. 4. 2. 2. 1.]\n",
      "parking: [2. 3. 2. 3. 2.]\n"
     ]
    }
   ],
   "source": [
    "price=data[:,0]\n",
    "print(f\"price: {price[:5]}\")\n",
    "area=data[:,1]\n",
    "print(f\"area: {area[:5]}\")\n",
    "bedrooms=data[:,2]\n",
    "print(f\"bedrooms: {bedrooms[:5]}\")\n",
    "bathrooms=data[:,3]\n",
    "print(f\"bathrooms: {bathrooms[:5]}\")\n",
    "parking=data[:,-1]\n",
    "print(f\"parking: {parking[:5]}\")"
   ]
  },
  {
   "cell_type": "markdown",
   "id": "9a55dff4",
   "metadata": {},
   "source": [
    "### Basic Descriptive statistics\n",
    "* Mean, Median, SD, Min, Max"
   ]
  },
  {
   "cell_type": "code",
   "execution_count": 21,
   "id": "5bb6ee70",
   "metadata": {},
   "outputs": [
    {
     "name": "stdout",
     "output_type": "stream",
     "text": [
      "---Basic Descriptive Statistics on Price---\n",
      "Mean: 4766729\n",
      "Median: 4340000.0\n",
      "Standard Deviation: 1868723\n",
      "Min: 1750000.0\n",
      "Max: 13300000.0\n"
     ]
    }
   ],
   "source": [
    "# price\n",
    "print(\"---Basic Descriptive Statistics on Price---\")\n",
    "print(f\"Mean: {round(np.mean(price))}\")\n",
    "print(f\"Median: {np.median(price)}\")\n",
    "print(f\"Standard Deviation: {round(np.std(price))}\")\n",
    "print(f\"Min: {np.min(price)}\")\n",
    "print(f\"Max: {np.max(price)}\")"
   ]
  },
  {
   "cell_type": "code",
   "execution_count": 22,
   "id": "efcac50e",
   "metadata": {},
   "outputs": [
    {
     "name": "stdout",
     "output_type": "stream",
     "text": [
      "---Basic Descriptive Statistics on Area---\n",
      "Mean: 5151\n",
      "Median: 4600.0\n",
      "Standard Deviation: 2168\n",
      "Min: 1650.0\n",
      "Max: 16200.0\n"
     ]
    }
   ],
   "source": [
    "# area\n",
    "print(\"---Basic Descriptive Statistics on Area---\")\n",
    "print(f\"Mean: {round(np.mean(area))}\")\n",
    "print(f\"Median: {np.median(area)}\")\n",
    "print(f\"Standard Deviation: {round(np.std(area))}\")\n",
    "print(f\"Min: {np.min(area)}\")\n",
    "print(f\"Max: {np.max(area)}\")"
   ]
  },
  {
   "cell_type": "markdown",
   "id": "a89c6129",
   "metadata": {},
   "source": [
    "### Data filtering"
   ]
  },
  {
   "cell_type": "code",
   "execution_count": 24,
   "id": "d3da7b07",
   "metadata": {},
   "outputs": [
    {
     "name": "stdout",
     "output_type": "stream",
     "text": [
      "Number of rows before filtering: 545\n"
     ]
    }
   ],
   "source": [
    "print(f\"Number of rows before filtering: {len(data)}\")"
   ]
  },
  {
   "cell_type": "code",
   "execution_count": 25,
   "id": "510d0df8",
   "metadata": {},
   "outputs": [
    {
     "name": "stdout",
     "output_type": "stream",
     "text": [
      "Number of rows after filtering: 7\n"
     ]
    }
   ],
   "source": [
    "# How many houses with more than 3 bedrooms and more than 2 bathrooms\n",
    "filtered_data=data[(bedrooms>3) & (bathrooms>2)]\n",
    "print(f\"Number of rows after filtering: {len(filtered_data)}\")"
   ]
  },
  {
   "cell_type": "markdown",
   "id": "5ea995f4",
   "metadata": {},
   "source": [
    "### How many entry in the dataset where \n",
    "* area more than 8000 square feet and \n",
    "* atleast 3 bedrooms and \n",
    "* atleast 2 parking spaces"
   ]
  },
  {
   "cell_type": "code",
   "execution_count": 26,
   "id": "0a456080",
   "metadata": {},
   "outputs": [
    {
     "name": "stdout",
     "output_type": "stream",
     "text": [
      "Number of rows after filtering: 25\n"
     ]
    }
   ],
   "source": [
    "filtered_data1=data[(bedrooms>=3) & (parking>=2)&(area>8000)]\n",
    "print(f\"Number of rows after filtering: {len(filtered_data1)}\")"
   ]
  },
  {
   "cell_type": "markdown",
   "id": "7d4fc77d",
   "metadata": {},
   "source": [
    "### Number of unique categories\n",
    "* Unique can work for discreet variables"
   ]
  },
  {
   "cell_type": "code",
   "execution_count": 30,
   "id": "f8e9be35",
   "metadata": {},
   "outputs": [
    {
     "name": "stdout",
     "output_type": "stream",
     "text": [
      "Unique bedroom counts: [1. 2. 3. 4. 5. 6.]\n",
      " How many unique bedrooms: 6\n"
     ]
    }
   ],
   "source": [
    "print(f\"Unique bedroom counts: {np.unique(bedrooms)}\")\n",
    "print(f\" How many unique bedrooms: {len(np.unique(bedrooms))}\")"
   ]
  },
  {
   "cell_type": "code",
   "execution_count": 31,
   "id": "ab9a74f5",
   "metadata": {},
   "outputs": [
    {
     "name": "stdout",
     "output_type": "stream",
     "text": [
      "Unique bathrooms counts: [1. 2. 3. 4.]\n",
      " How many unique bathrooms: 4\n"
     ]
    }
   ],
   "source": [
    "print(f\"Unique bathrooms counts: {np.unique(bathrooms)}\")\n",
    "print(f\" How many unique bathrooms: {len(np.unique(bathrooms))}\")"
   ]
  },
  {
   "cell_type": "code",
   "execution_count": 32,
   "id": "37b561c0",
   "metadata": {},
   "outputs": [
    {
     "name": "stdout",
     "output_type": "stream",
     "text": [
      "Unique parking space counts: [0. 1. 2. 3.]\n",
      " How many unique parking: 4\n"
     ]
    }
   ],
   "source": [
    "print(f\"Unique parking space counts: {np.unique(parking)}\")\n",
    "print(f\" How many unique parking: {len(np.unique(parking))}\")"
   ]
  },
  {
   "cell_type": "markdown",
   "id": "2e1e6aff",
   "metadata": {},
   "source": [
    "### Correlation "
   ]
  },
  {
   "cell_type": "code",
   "execution_count": 35,
   "id": "7c04862b",
   "metadata": {},
   "outputs": [
    {
     "name": "stdout",
     "output_type": "stream",
     "text": [
      "Corr price and area [[1.         0.53599735]\n",
      " [0.53599735 1.        ]]\n"
     ]
    }
   ],
   "source": [
    "# Default rowvar= True ( calculate the corelation for each rows)\n",
    "# rowvar= False (each column represent a variable)\n",
    "\n",
    "corr_house=np.corrcoef(price,area,rowvar=False)\n",
    "print(f\"Corr price and area {corr_house}\")"
   ]
  },
  {
   "cell_type": "markdown",
   "id": "77a2c5aa",
   "metadata": {},
   "source": [
    "###  Correlation Analysis\n",
    "- Price and area: 54% (strong positive)\n",
    "- Price and bedrooms: 37% (weak positive) \n",
    "- Price and bathrooms: 52% (strong positive)\n",
    "- Price parking : 38%(weak positive)"
   ]
  }
 ],
 "metadata": {
  "kernelspec": {
   "display_name": "Python 3 (ipykernel)",
   "language": "python",
   "name": "python3"
  },
  "language_info": {
   "codemirror_mode": {
    "name": "ipython",
    "version": 3
   },
   "file_extension": ".py",
   "mimetype": "text/x-python",
   "name": "python",
   "nbconvert_exporter": "python",
   "pygments_lexer": "ipython3",
   "version": "3.11.4"
  }
 },
 "nbformat": 4,
 "nbformat_minor": 5
}
