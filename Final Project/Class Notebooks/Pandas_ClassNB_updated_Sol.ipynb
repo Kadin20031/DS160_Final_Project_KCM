{
 "cells": [
  {
   "cell_type": "markdown",
   "id": "7ccf7031",
   "metadata": {},
   "source": [
    "# Introduction to Pandas for data manupulation\n",
    "### Pandas is an open-source python library that is used for data manipulation and analysis."
   ]
  },
  {
   "cell_type": "markdown",
   "id": "05583802",
   "metadata": {},
   "source": [
    "### What is Pandas?\n",
    "* Pandas is a Python library used for working with data sets.\n",
    "* It has functions for analyzing, cleaning, exploring, and manipulating data.\n",
    "* The name \"Pandas\" has a reference to both \"Panel Data\", and \"Python Data Analysis\" and was created by Wes McKinney in 2008."
   ]
  },
  {
   "cell_type": "markdown",
   "id": "f327f61f",
   "metadata": {},
   "source": [
    "## Why Use Pandas?\n",
    "* Pandas allows us to analyze big data and make conclusions based on statistical theories.\n",
    "* Pandas can clean messy data sets, and make them readable and relevant.\n",
    "* Relevant data is very important in data science."
   ]
  },
  {
   "cell_type": "markdown",
   "id": "1e015c33",
   "metadata": {},
   "source": [
    "## A Pandas DataFrame is a 2 dimensional data structure, like a 2 dimensional array, or a table with rows and columns."
   ]
  },
  {
   "cell_type": "code",
   "execution_count": 1,
   "id": "5306a82f",
   "metadata": {},
   "outputs": [],
   "source": [
    "#!pip install pandas\n",
    "import pandas as pd \n",
    "import numpy as np\n"
   ]
  },
  {
   "cell_type": "markdown",
   "id": "eceaa715",
   "metadata": {},
   "source": [
    "### Create a DataFrame from list"
   ]
  },
  {
   "cell_type": "code",
   "execution_count": 2,
   "id": "3184e0f8",
   "metadata": {},
   "outputs": [
    {
     "name": "stdout",
     "output_type": "stream",
     "text": [
      "       0\n",
      "0  Katie\n",
      "1    Nik\n",
      "2  James\n",
      "3   Evan\n"
     ]
    },
    {
     "data": {
      "text/plain": [
       "pandas.core.frame.DataFrame"
      ]
     },
     "execution_count": 2,
     "metadata": {},
     "output_type": "execute_result"
    }
   ],
   "source": [
    "names = ['Katie', 'Nik', 'James', 'Evan']\n",
    "df = pd.DataFrame(names)\n",
    "print(df)\n",
    "type(df)"
   ]
  },
  {
   "cell_type": "markdown",
   "id": "70136c77",
   "metadata": {},
   "source": [
    "### Create a DataFrame from NumPy array"
   ]
  },
  {
   "cell_type": "code",
   "execution_count": 3,
   "id": "e3e6f65f",
   "metadata": {},
   "outputs": [
    {
     "name": "stdout",
     "output_type": "stream",
     "text": [
      "[[  1   1   1]\n",
      " [  2   4   8]\n",
      " [  3   9  27]\n",
      " [  4  16  64]\n",
      " [  5  25 125]\n",
      " [  6  36 216]\n",
      " [  7  49 343]]\n",
      "         number  squares  cubes\n",
      "first         1        1      1\n",
      "second        2        4      8\n",
      "third         3        9     27\n",
      "fourth        4       16     64\n",
      "fifth         5       25    125\n",
      "sixth         6       36    216\n",
      "seventh       7       49    343\n"
     ]
    }
   ],
   "source": [
    "array = np.array([[1, 1, 1], [2, 4, 8], [3, 9, 27],  \n",
    "                  [4, 16, 64], [5, 25, 125], [6, 36, 216],  \n",
    "                  [7, 49, 343]])\n",
    "print(array)\n",
    "  \n",
    "# creating a list of index names \n",
    "index_values = ['first', 'second', 'third', \n",
    "                'fourth', 'fifth', 'sixth', 'seventh'] \n",
    "   \n",
    "# creating a list of column names \n",
    "column_values = ['number', 'squares', 'cubes'] \n",
    "  \n",
    "# creating the dataframe \n",
    "df = pd.DataFrame(data = array,  \n",
    "                  index = index_values,  \n",
    "                  columns = column_values) \n",
    "print(df)"
   ]
  },
  {
   "cell_type": "markdown",
   "id": "b295ab2b",
   "metadata": {},
   "source": [
    "### Create a DataFrame from dictionary"
   ]
  },
  {
   "cell_type": "code",
   "execution_count": 4,
   "id": "7a1abbeb",
   "metadata": {},
   "outputs": [
    {
     "name": "stdout",
     "output_type": "stream",
     "text": [
      "     Name  Age       Department\n",
      "0     Jim   26            Sales\n",
      "1  Dwight   28            Sales\n",
      "2  Angela   27       Accounting\n",
      "3    Tobi   32  Human Resources\n"
     ]
    }
   ],
   "source": [
    "data = {\n",
    "    \"Name\": [\"Jim\", \"Dwight\", \"Angela\", \"Tobi\"],\n",
    "    \"Age\": [26, 28, 27, 32],\n",
    "    \"Department\": [\"Sales\", \"Sales\", \"Accounting\", \"Human Resources\"]\n",
    "}\n",
    "\n",
    "# dataframe from dict\n",
    "df = pd.DataFrame(data)\n",
    "\n",
    "print(df)"
   ]
  },
  {
   "cell_type": "code",
   "execution_count": null,
   "id": "3d5451f9",
   "metadata": {},
   "outputs": [],
   "source": []
  },
  {
   "cell_type": "markdown",
   "id": "c1908a50",
   "metadata": {},
   "source": [
    "## Read\n",
    "https://pandas.pydata.org/pandas-docs/stable/reference/api/pandas.read_excel.html"
   ]
  },
  {
   "cell_type": "markdown",
   "id": "f804291e",
   "metadata": {},
   "source": [
    "#### Reading a file\n",
    "- pd.read_csv(\" \")\n",
    "- pd.read_excel(\"\")\n",
    "- pd.read_json(\" \")"
   ]
  },
  {
   "cell_type": "code",
   "execution_count": 5,
   "id": "c51b2b68",
   "metadata": {},
   "outputs": [],
   "source": [
    "# df= dataframe\n",
    "df=pd.read_csv(\"Police.csv\")"
   ]
  },
  {
   "cell_type": "markdown",
   "id": "6c8719f6",
   "metadata": {},
   "source": [
    "### Explore the dataset"
   ]
  },
  {
   "cell_type": "markdown",
   "id": "f0bae742",
   "metadata": {},
   "source": [
    "#### head() to display the top 5 rows from our data set."
   ]
  },
  {
   "cell_type": "code",
   "execution_count": 6,
   "id": "44947cb4",
   "metadata": {},
   "outputs": [
    {
     "data": {
      "text/html": [
       "<div>\n",
       "<style scoped>\n",
       "    .dataframe tbody tr th:only-of-type {\n",
       "        vertical-align: middle;\n",
       "    }\n",
       "\n",
       "    .dataframe tbody tr th {\n",
       "        vertical-align: top;\n",
       "    }\n",
       "\n",
       "    .dataframe thead th {\n",
       "        text-align: right;\n",
       "    }\n",
       "</style>\n",
       "<table border=\"1\" class=\"dataframe\">\n",
       "  <thead>\n",
       "    <tr style=\"text-align: right;\">\n",
       "      <th></th>\n",
       "      <th>stop_date</th>\n",
       "      <th>stop_time</th>\n",
       "      <th>county_name</th>\n",
       "      <th>driver_gender</th>\n",
       "      <th>driver_age_raw</th>\n",
       "      <th>driver_age</th>\n",
       "      <th>driver_race</th>\n",
       "      <th>violation_raw</th>\n",
       "      <th>violation</th>\n",
       "      <th>search_conducted</th>\n",
       "      <th>stop_outcome</th>\n",
       "      <th>is_arrested</th>\n",
       "      <th>drugs_related_stop</th>\n",
       "    </tr>\n",
       "  </thead>\n",
       "  <tbody>\n",
       "    <tr>\n",
       "      <th>0</th>\n",
       "      <td>9/8/2013</td>\n",
       "      <td>9:50</td>\n",
       "      <td>NaN</td>\n",
       "      <td>F</td>\n",
       "      <td>1914</td>\n",
       "      <td>99.0</td>\n",
       "      <td>White</td>\n",
       "      <td>Other Traffic Violation</td>\n",
       "      <td>Moving violation</td>\n",
       "      <td>False</td>\n",
       "      <td>Citation</td>\n",
       "      <td>False</td>\n",
       "      <td>False</td>\n",
       "    </tr>\n",
       "    <tr>\n",
       "      <th>1</th>\n",
       "      <td>9/6/2006</td>\n",
       "      <td>12:15</td>\n",
       "      <td>NaN</td>\n",
       "      <td>M</td>\n",
       "      <td>1918</td>\n",
       "      <td>88.0</td>\n",
       "      <td>White</td>\n",
       "      <td>Speeding</td>\n",
       "      <td>Speeding</td>\n",
       "      <td>False</td>\n",
       "      <td>Citation</td>\n",
       "      <td>False</td>\n",
       "      <td>False</td>\n",
       "    </tr>\n",
       "    <tr>\n",
       "      <th>2</th>\n",
       "      <td>2/14/2014</td>\n",
       "      <td>10:21</td>\n",
       "      <td>NaN</td>\n",
       "      <td>M</td>\n",
       "      <td>1920</td>\n",
       "      <td>94.0</td>\n",
       "      <td>White</td>\n",
       "      <td>Other Traffic Violation</td>\n",
       "      <td>Moving violation</td>\n",
       "      <td>False</td>\n",
       "      <td>Citation</td>\n",
       "      <td>False</td>\n",
       "      <td>False</td>\n",
       "    </tr>\n",
       "    <tr>\n",
       "      <th>3</th>\n",
       "      <td>2/4/2008</td>\n",
       "      <td>14:40</td>\n",
       "      <td>NaN</td>\n",
       "      <td>M</td>\n",
       "      <td>1922</td>\n",
       "      <td>86.0</td>\n",
       "      <td>White</td>\n",
       "      <td>Speeding</td>\n",
       "      <td>Speeding</td>\n",
       "      <td>False</td>\n",
       "      <td>Citation</td>\n",
       "      <td>False</td>\n",
       "      <td>False</td>\n",
       "    </tr>\n",
       "    <tr>\n",
       "      <th>4</th>\n",
       "      <td>2/15/2008</td>\n",
       "      <td>14:34</td>\n",
       "      <td>NaN</td>\n",
       "      <td>M</td>\n",
       "      <td>1922</td>\n",
       "      <td>86.0</td>\n",
       "      <td>White</td>\n",
       "      <td>Speeding</td>\n",
       "      <td>Speeding</td>\n",
       "      <td>False</td>\n",
       "      <td>Citation</td>\n",
       "      <td>False</td>\n",
       "      <td>False</td>\n",
       "    </tr>\n",
       "  </tbody>\n",
       "</table>\n",
       "</div>"
      ],
      "text/plain": [
       "   stop_date stop_time  county_name driver_gender  driver_age_raw  driver_age  \\\n",
       "0   9/8/2013      9:50          NaN             F            1914        99.0   \n",
       "1   9/6/2006     12:15          NaN             M            1918        88.0   \n",
       "2  2/14/2014     10:21          NaN             M            1920        94.0   \n",
       "3   2/4/2008     14:40          NaN             M            1922        86.0   \n",
       "4  2/15/2008     14:34          NaN             M            1922        86.0   \n",
       "\n",
       "  driver_race            violation_raw         violation  search_conducted  \\\n",
       "0       White  Other Traffic Violation  Moving violation             False   \n",
       "1       White                 Speeding          Speeding             False   \n",
       "2       White  Other Traffic Violation  Moving violation             False   \n",
       "3       White                 Speeding          Speeding             False   \n",
       "4       White                 Speeding          Speeding             False   \n",
       "\n",
       "  stop_outcome is_arrested  drugs_related_stop  \n",
       "0     Citation       False               False  \n",
       "1     Citation       False               False  \n",
       "2     Citation       False               False  \n",
       "3     Citation       False               False  \n",
       "4     Citation       False               False  "
      ]
     },
     "execution_count": 6,
     "metadata": {},
     "output_type": "execute_result"
    }
   ],
   "source": [
    "df.head()"
   ]
  },
  {
   "cell_type": "code",
   "execution_count": 7,
   "id": "b7cf7efa",
   "metadata": {},
   "outputs": [
    {
     "data": {
      "text/html": [
       "<div>\n",
       "<style scoped>\n",
       "    .dataframe tbody tr th:only-of-type {\n",
       "        vertical-align: middle;\n",
       "    }\n",
       "\n",
       "    .dataframe tbody tr th {\n",
       "        vertical-align: top;\n",
       "    }\n",
       "\n",
       "    .dataframe thead th {\n",
       "        text-align: right;\n",
       "    }\n",
       "</style>\n",
       "<table border=\"1\" class=\"dataframe\">\n",
       "  <thead>\n",
       "    <tr style=\"text-align: right;\">\n",
       "      <th></th>\n",
       "      <th>stop_date</th>\n",
       "      <th>stop_time</th>\n",
       "      <th>county_name</th>\n",
       "      <th>driver_gender</th>\n",
       "      <th>driver_age_raw</th>\n",
       "      <th>driver_age</th>\n",
       "      <th>driver_race</th>\n",
       "      <th>violation_raw</th>\n",
       "      <th>violation</th>\n",
       "      <th>search_conducted</th>\n",
       "      <th>stop_outcome</th>\n",
       "      <th>is_arrested</th>\n",
       "      <th>drugs_related_stop</th>\n",
       "    </tr>\n",
       "  </thead>\n",
       "  <tbody>\n",
       "    <tr>\n",
       "      <th>0</th>\n",
       "      <td>9/8/2013</td>\n",
       "      <td>9:50</td>\n",
       "      <td>NaN</td>\n",
       "      <td>F</td>\n",
       "      <td>1914</td>\n",
       "      <td>99.0</td>\n",
       "      <td>White</td>\n",
       "      <td>Other Traffic Violation</td>\n",
       "      <td>Moving violation</td>\n",
       "      <td>False</td>\n",
       "      <td>Citation</td>\n",
       "      <td>False</td>\n",
       "      <td>False</td>\n",
       "    </tr>\n",
       "    <tr>\n",
       "      <th>1</th>\n",
       "      <td>9/6/2006</td>\n",
       "      <td>12:15</td>\n",
       "      <td>NaN</td>\n",
       "      <td>M</td>\n",
       "      <td>1918</td>\n",
       "      <td>88.0</td>\n",
       "      <td>White</td>\n",
       "      <td>Speeding</td>\n",
       "      <td>Speeding</td>\n",
       "      <td>False</td>\n",
       "      <td>Citation</td>\n",
       "      <td>False</td>\n",
       "      <td>False</td>\n",
       "    </tr>\n",
       "    <tr>\n",
       "      <th>2</th>\n",
       "      <td>2/14/2014</td>\n",
       "      <td>10:21</td>\n",
       "      <td>NaN</td>\n",
       "      <td>M</td>\n",
       "      <td>1920</td>\n",
       "      <td>94.0</td>\n",
       "      <td>White</td>\n",
       "      <td>Other Traffic Violation</td>\n",
       "      <td>Moving violation</td>\n",
       "      <td>False</td>\n",
       "      <td>Citation</td>\n",
       "      <td>False</td>\n",
       "      <td>False</td>\n",
       "    </tr>\n",
       "    <tr>\n",
       "      <th>3</th>\n",
       "      <td>2/4/2008</td>\n",
       "      <td>14:40</td>\n",
       "      <td>NaN</td>\n",
       "      <td>M</td>\n",
       "      <td>1922</td>\n",
       "      <td>86.0</td>\n",
       "      <td>White</td>\n",
       "      <td>Speeding</td>\n",
       "      <td>Speeding</td>\n",
       "      <td>False</td>\n",
       "      <td>Citation</td>\n",
       "      <td>False</td>\n",
       "      <td>False</td>\n",
       "    </tr>\n",
       "    <tr>\n",
       "      <th>4</th>\n",
       "      <td>2/15/2008</td>\n",
       "      <td>14:34</td>\n",
       "      <td>NaN</td>\n",
       "      <td>M</td>\n",
       "      <td>1922</td>\n",
       "      <td>86.0</td>\n",
       "      <td>White</td>\n",
       "      <td>Speeding</td>\n",
       "      <td>Speeding</td>\n",
       "      <td>False</td>\n",
       "      <td>Citation</td>\n",
       "      <td>False</td>\n",
       "      <td>False</td>\n",
       "    </tr>\n",
       "    <tr>\n",
       "      <th>5</th>\n",
       "      <td>4/5/2008</td>\n",
       "      <td>10:07</td>\n",
       "      <td>NaN</td>\n",
       "      <td>M</td>\n",
       "      <td>1922</td>\n",
       "      <td>86.0</td>\n",
       "      <td>White</td>\n",
       "      <td>Speeding</td>\n",
       "      <td>Speeding</td>\n",
       "      <td>False</td>\n",
       "      <td>Citation</td>\n",
       "      <td>False</td>\n",
       "      <td>False</td>\n",
       "    </tr>\n",
       "    <tr>\n",
       "      <th>6</th>\n",
       "      <td>11/10/2005</td>\n",
       "      <td>18:58</td>\n",
       "      <td>NaN</td>\n",
       "      <td>M</td>\n",
       "      <td>1923</td>\n",
       "      <td>82.0</td>\n",
       "      <td>White</td>\n",
       "      <td>Speeding</td>\n",
       "      <td>Speeding</td>\n",
       "      <td>False</td>\n",
       "      <td>Citation</td>\n",
       "      <td>False</td>\n",
       "      <td>False</td>\n",
       "    </tr>\n",
       "    <tr>\n",
       "      <th>7</th>\n",
       "      <td>11/17/2009</td>\n",
       "      <td>15:33</td>\n",
       "      <td>NaN</td>\n",
       "      <td>M</td>\n",
       "      <td>1923</td>\n",
       "      <td>86.0</td>\n",
       "      <td>White</td>\n",
       "      <td>Other Traffic Violation</td>\n",
       "      <td>Moving violation</td>\n",
       "      <td>False</td>\n",
       "      <td>Citation</td>\n",
       "      <td>False</td>\n",
       "      <td>False</td>\n",
       "    </tr>\n",
       "    <tr>\n",
       "      <th>8</th>\n",
       "      <td>6/20/2011</td>\n",
       "      <td>12:05</td>\n",
       "      <td>NaN</td>\n",
       "      <td>M</td>\n",
       "      <td>1923</td>\n",
       "      <td>88.0</td>\n",
       "      <td>White</td>\n",
       "      <td>Speeding</td>\n",
       "      <td>Speeding</td>\n",
       "      <td>False</td>\n",
       "      <td>Warning</td>\n",
       "      <td>False</td>\n",
       "      <td>False</td>\n",
       "    </tr>\n",
       "    <tr>\n",
       "      <th>9</th>\n",
       "      <td>10/28/2005</td>\n",
       "      <td>9:40</td>\n",
       "      <td>NaN</td>\n",
       "      <td>M</td>\n",
       "      <td>1924</td>\n",
       "      <td>81.0</td>\n",
       "      <td>White</td>\n",
       "      <td>Speeding</td>\n",
       "      <td>Speeding</td>\n",
       "      <td>False</td>\n",
       "      <td>Citation</td>\n",
       "      <td>False</td>\n",
       "      <td>False</td>\n",
       "    </tr>\n",
       "  </tbody>\n",
       "</table>\n",
       "</div>"
      ],
      "text/plain": [
       "    stop_date stop_time  county_name driver_gender  driver_age_raw  \\\n",
       "0    9/8/2013      9:50          NaN             F            1914   \n",
       "1    9/6/2006     12:15          NaN             M            1918   \n",
       "2   2/14/2014     10:21          NaN             M            1920   \n",
       "3    2/4/2008     14:40          NaN             M            1922   \n",
       "4   2/15/2008     14:34          NaN             M            1922   \n",
       "5    4/5/2008     10:07          NaN             M            1922   \n",
       "6  11/10/2005     18:58          NaN             M            1923   \n",
       "7  11/17/2009     15:33          NaN             M            1923   \n",
       "8   6/20/2011     12:05          NaN             M            1923   \n",
       "9  10/28/2005      9:40          NaN             M            1924   \n",
       "\n",
       "   driver_age driver_race            violation_raw         violation  \\\n",
       "0        99.0       White  Other Traffic Violation  Moving violation   \n",
       "1        88.0       White                 Speeding          Speeding   \n",
       "2        94.0       White  Other Traffic Violation  Moving violation   \n",
       "3        86.0       White                 Speeding          Speeding   \n",
       "4        86.0       White                 Speeding          Speeding   \n",
       "5        86.0       White                 Speeding          Speeding   \n",
       "6        82.0       White                 Speeding          Speeding   \n",
       "7        86.0       White  Other Traffic Violation  Moving violation   \n",
       "8        88.0       White                 Speeding          Speeding   \n",
       "9        81.0       White                 Speeding          Speeding   \n",
       "\n",
       "   search_conducted stop_outcome is_arrested  drugs_related_stop  \n",
       "0             False     Citation       False               False  \n",
       "1             False     Citation       False               False  \n",
       "2             False     Citation       False               False  \n",
       "3             False     Citation       False               False  \n",
       "4             False     Citation       False               False  \n",
       "5             False     Citation       False               False  \n",
       "6             False     Citation       False               False  \n",
       "7             False     Citation       False               False  \n",
       "8             False      Warning       False               False  \n",
       "9             False     Citation       False               False  "
      ]
     },
     "execution_count": 7,
     "metadata": {},
     "output_type": "execute_result"
    }
   ],
   "source": [
    "# top 10 rows\n",
    "df.head(10)"
   ]
  },
  {
   "cell_type": "markdown",
   "id": "23de2bc6",
   "metadata": {},
   "source": [
    "### `sample()` allows us to choose random values from our data frame. We can pass it the no. of rows that we want to fetch as a parameter."
   ]
  },
  {
   "cell_type": "code",
   "execution_count": 8,
   "id": "9056f7d7",
   "metadata": {},
   "outputs": [
    {
     "data": {
      "text/html": [
       "<div>\n",
       "<style scoped>\n",
       "    .dataframe tbody tr th:only-of-type {\n",
       "        vertical-align: middle;\n",
       "    }\n",
       "\n",
       "    .dataframe tbody tr th {\n",
       "        vertical-align: top;\n",
       "    }\n",
       "\n",
       "    .dataframe thead th {\n",
       "        text-align: right;\n",
       "    }\n",
       "</style>\n",
       "<table border=\"1\" class=\"dataframe\">\n",
       "  <thead>\n",
       "    <tr style=\"text-align: right;\">\n",
       "      <th></th>\n",
       "      <th>stop_date</th>\n",
       "      <th>stop_time</th>\n",
       "      <th>county_name</th>\n",
       "      <th>driver_gender</th>\n",
       "      <th>driver_age_raw</th>\n",
       "      <th>driver_age</th>\n",
       "      <th>driver_race</th>\n",
       "      <th>violation_raw</th>\n",
       "      <th>violation</th>\n",
       "      <th>search_conducted</th>\n",
       "      <th>stop_outcome</th>\n",
       "      <th>is_arrested</th>\n",
       "      <th>drugs_related_stop</th>\n",
       "    </tr>\n",
       "  </thead>\n",
       "  <tbody>\n",
       "    <tr>\n",
       "      <th>60982</th>\n",
       "      <td>3/28/2007</td>\n",
       "      <td>7:19</td>\n",
       "      <td>NaN</td>\n",
       "      <td>M</td>\n",
       "      <td>1986</td>\n",
       "      <td>21.0</td>\n",
       "      <td>White</td>\n",
       "      <td>Call for Service</td>\n",
       "      <td>Other</td>\n",
       "      <td>False</td>\n",
       "      <td>Citation</td>\n",
       "      <td>False</td>\n",
       "      <td>False</td>\n",
       "    </tr>\n",
       "    <tr>\n",
       "      <th>33688</th>\n",
       "      <td>2/19/2009</td>\n",
       "      <td>8:08</td>\n",
       "      <td>NaN</td>\n",
       "      <td>M</td>\n",
       "      <td>1975</td>\n",
       "      <td>34.0</td>\n",
       "      <td>White</td>\n",
       "      <td>Other Traffic Violation</td>\n",
       "      <td>Moving violation</td>\n",
       "      <td>False</td>\n",
       "      <td>Citation</td>\n",
       "      <td>False</td>\n",
       "      <td>False</td>\n",
       "    </tr>\n",
       "    <tr>\n",
       "      <th>47207</th>\n",
       "      <td>12/24/2012</td>\n",
       "      <td>9:19</td>\n",
       "      <td>NaN</td>\n",
       "      <td>M</td>\n",
       "      <td>1981</td>\n",
       "      <td>31.0</td>\n",
       "      <td>Black</td>\n",
       "      <td>Speeding</td>\n",
       "      <td>Speeding</td>\n",
       "      <td>False</td>\n",
       "      <td>Warning</td>\n",
       "      <td>False</td>\n",
       "      <td>False</td>\n",
       "    </tr>\n",
       "    <tr>\n",
       "      <th>1705</th>\n",
       "      <td>7/13/2008</td>\n",
       "      <td>11:25</td>\n",
       "      <td>NaN</td>\n",
       "      <td>M</td>\n",
       "      <td>1946</td>\n",
       "      <td>62.0</td>\n",
       "      <td>White</td>\n",
       "      <td>Speeding</td>\n",
       "      <td>Speeding</td>\n",
       "      <td>False</td>\n",
       "      <td>Citation</td>\n",
       "      <td>False</td>\n",
       "      <td>False</td>\n",
       "    </tr>\n",
       "    <tr>\n",
       "      <th>24220</th>\n",
       "      <td>2/15/2010</td>\n",
       "      <td>10:32</td>\n",
       "      <td>NaN</td>\n",
       "      <td>M</td>\n",
       "      <td>1969</td>\n",
       "      <td>41.0</td>\n",
       "      <td>White</td>\n",
       "      <td>Equipment/Inspection Violation</td>\n",
       "      <td>Equipment</td>\n",
       "      <td>False</td>\n",
       "      <td>Citation</td>\n",
       "      <td>False</td>\n",
       "      <td>False</td>\n",
       "    </tr>\n",
       "  </tbody>\n",
       "</table>\n",
       "</div>"
      ],
      "text/plain": [
       "        stop_date stop_time  county_name driver_gender  driver_age_raw  \\\n",
       "60982   3/28/2007      7:19          NaN             M            1986   \n",
       "33688   2/19/2009      8:08          NaN             M            1975   \n",
       "47207  12/24/2012      9:19          NaN             M            1981   \n",
       "1705    7/13/2008     11:25          NaN             M            1946   \n",
       "24220   2/15/2010     10:32          NaN             M            1969   \n",
       "\n",
       "       driver_age driver_race                   violation_raw  \\\n",
       "60982        21.0       White                Call for Service   \n",
       "33688        34.0       White         Other Traffic Violation   \n",
       "47207        31.0       Black                        Speeding   \n",
       "1705         62.0       White                        Speeding   \n",
       "24220        41.0       White  Equipment/Inspection Violation   \n",
       "\n",
       "              violation  search_conducted stop_outcome is_arrested  \\\n",
       "60982             Other             False     Citation       False   \n",
       "33688  Moving violation             False     Citation       False   \n",
       "47207          Speeding             False      Warning       False   \n",
       "1705           Speeding             False     Citation       False   \n",
       "24220         Equipment             False     Citation       False   \n",
       "\n",
       "       drugs_related_stop  \n",
       "60982               False  \n",
       "33688               False  \n",
       "47207               False  \n",
       "1705                False  \n",
       "24220               False  "
      ]
     },
     "execution_count": 8,
     "metadata": {},
     "output_type": "execute_result"
    }
   ],
   "source": [
    "df.sample(5)"
   ]
  },
  {
   "cell_type": "markdown",
   "id": "a4a3979a",
   "metadata": {},
   "source": [
    "### df.tail() # return bottom 5 rows"
   ]
  },
  {
   "cell_type": "code",
   "execution_count": 9,
   "id": "099b7ebf",
   "metadata": {},
   "outputs": [
    {
     "data": {
      "text/html": [
       "<div>\n",
       "<style scoped>\n",
       "    .dataframe tbody tr th:only-of-type {\n",
       "        vertical-align: middle;\n",
       "    }\n",
       "\n",
       "    .dataframe tbody tr th {\n",
       "        vertical-align: top;\n",
       "    }\n",
       "\n",
       "    .dataframe thead th {\n",
       "        text-align: right;\n",
       "    }\n",
       "</style>\n",
       "<table border=\"1\" class=\"dataframe\">\n",
       "  <thead>\n",
       "    <tr style=\"text-align: right;\">\n",
       "      <th></th>\n",
       "      <th>stop_date</th>\n",
       "      <th>stop_time</th>\n",
       "      <th>county_name</th>\n",
       "      <th>driver_gender</th>\n",
       "      <th>driver_age_raw</th>\n",
       "      <th>driver_age</th>\n",
       "      <th>driver_race</th>\n",
       "      <th>violation_raw</th>\n",
       "      <th>violation</th>\n",
       "      <th>search_conducted</th>\n",
       "      <th>stop_outcome</th>\n",
       "      <th>is_arrested</th>\n",
       "      <th>drugs_related_stop</th>\n",
       "    </tr>\n",
       "  </thead>\n",
       "  <tbody>\n",
       "    <tr>\n",
       "      <th>86152</th>\n",
       "      <td>2/5/2012</td>\n",
       "      <td>13:54</td>\n",
       "      <td>NaN</td>\n",
       "      <td>M</td>\n",
       "      <td>2011</td>\n",
       "      <td>NaN</td>\n",
       "      <td>White</td>\n",
       "      <td>Special Detail/Directed Patrol</td>\n",
       "      <td>Other</td>\n",
       "      <td>False</td>\n",
       "      <td>Citation</td>\n",
       "      <td>False</td>\n",
       "      <td>False</td>\n",
       "    </tr>\n",
       "    <tr>\n",
       "      <th>86153</th>\n",
       "      <td>2/4/2013</td>\n",
       "      <td>8:31</td>\n",
       "      <td>NaN</td>\n",
       "      <td>M</td>\n",
       "      <td>2013</td>\n",
       "      <td>NaN</td>\n",
       "      <td>White</td>\n",
       "      <td>Registration Violation</td>\n",
       "      <td>Registration/plates</td>\n",
       "      <td>True</td>\n",
       "      <td>Citation</td>\n",
       "      <td>False</td>\n",
       "      <td>True</td>\n",
       "    </tr>\n",
       "  </tbody>\n",
       "</table>\n",
       "</div>"
      ],
      "text/plain": [
       "      stop_date stop_time  county_name driver_gender  driver_age_raw  \\\n",
       "86152  2/5/2012     13:54          NaN             M            2011   \n",
       "86153  2/4/2013      8:31          NaN             M            2013   \n",
       "\n",
       "       driver_age driver_race                   violation_raw  \\\n",
       "86152         NaN       White  Special Detail/Directed Patrol   \n",
       "86153         NaN       White          Registration Violation   \n",
       "\n",
       "                 violation  search_conducted stop_outcome is_arrested  \\\n",
       "86152                Other             False     Citation       False   \n",
       "86153  Registration/plates              True     Citation       False   \n",
       "\n",
       "       drugs_related_stop  \n",
       "86152               False  \n",
       "86153                True  "
      ]
     },
     "execution_count": 9,
     "metadata": {},
     "output_type": "execute_result"
    }
   ],
   "source": [
    "df.tail(2)"
   ]
  },
  {
   "cell_type": "markdown",
   "id": "5846e25d",
   "metadata": {},
   "source": [
    "## `shape` to see dimension of our dataset,"
   ]
  },
  {
   "cell_type": "code",
   "execution_count": 10,
   "id": "bd6d0995",
   "metadata": {},
   "outputs": [
    {
     "data": {
      "text/plain": [
       "(86154, 13)"
      ]
     },
     "execution_count": 10,
     "metadata": {},
     "output_type": "execute_result"
    }
   ],
   "source": [
    "df.shape\n",
    "# rows- 86154\n",
    "# columns- 13"
   ]
  },
  {
   "cell_type": "markdown",
   "id": "454b137d",
   "metadata": {},
   "source": [
    "### More information about dataset\n",
    "- info()\n",
    "- columns"
   ]
  },
  {
   "cell_type": "code",
   "execution_count": 11,
   "id": "0820eac1",
   "metadata": {},
   "outputs": [
    {
     "name": "stdout",
     "output_type": "stream",
     "text": [
      "<class 'pandas.core.frame.DataFrame'>\n",
      "RangeIndex: 86154 entries, 0 to 86153\n",
      "Data columns (total 13 columns):\n",
      " #   Column              Non-Null Count  Dtype  \n",
      "---  ------              --------------  -----  \n",
      " 0   stop_date           86154 non-null  object \n",
      " 1   stop_time           86154 non-null  object \n",
      " 2   county_name         0 non-null      float64\n",
      " 3   driver_gender       86147 non-null  object \n",
      " 4   driver_age_raw      86154 non-null  int64  \n",
      " 5   driver_age          86120 non-null  float64\n",
      " 6   driver_race         86149 non-null  object \n",
      " 7   violation_raw       86149 non-null  object \n",
      " 8   violation           86149 non-null  object \n",
      " 9   search_conducted    86154 non-null  bool   \n",
      " 10  stop_outcome        86149 non-null  object \n",
      " 11  is_arrested         86149 non-null  object \n",
      " 12  drugs_related_stop  86154 non-null  bool   \n",
      "dtypes: bool(2), float64(2), int64(1), object(8)\n",
      "memory usage: 7.4+ MB\n"
     ]
    }
   ],
   "source": [
    "df.info()"
   ]
  },
  {
   "cell_type": "markdown",
   "id": "9d149a0a",
   "metadata": {},
   "source": [
    "`columns` get the name of all the features/columns in our data frame"
   ]
  },
  {
   "cell_type": "code",
   "execution_count": 12,
   "id": "7da44f7c",
   "metadata": {},
   "outputs": [
    {
     "data": {
      "text/plain": [
       "Index(['stop_date', 'stop_time', 'county_name', 'driver_gender',\n",
       "       'driver_age_raw', 'driver_age', 'driver_race', 'violation_raw',\n",
       "       'violation', 'search_conducted', 'stop_outcome', 'is_arrested',\n",
       "       'drugs_related_stop'],\n",
       "      dtype='object')"
      ]
     },
     "execution_count": 12,
     "metadata": {},
     "output_type": "execute_result"
    }
   ],
   "source": [
    "df.columns"
   ]
  },
  {
   "cell_type": "markdown",
   "id": "7d8ad675",
   "metadata": {},
   "source": [
    "### datetime()\n",
    "Pandas to_datetime() is able to parse any valid date string to datetime without any additional arguments.\n",
    "* Convert strings to datetime\n",
    "* Assemble a datetime from multiple columns\n",
    "* Get year, month and day\n",
    "* Get the week of year, the day of week, and leap year\n",
    "* Get the age from the date of birth\n",
    "* Improve performance by setting date column as the index\n",
    "* Select data with a specific year and perform aggregation\n",
    "* Select data with a specific month and a specific day of the month\n",
    "* Select data between two dates\n",
    "* Handle missing values\n"
   ]
  },
  {
   "cell_type": "code",
   "execution_count": 13,
   "id": "4c7930b9",
   "metadata": {},
   "outputs": [],
   "source": [
    "df['stop_date']=pd.to_datetime(df['stop_date'])"
   ]
  },
  {
   "cell_type": "code",
   "execution_count": 14,
   "id": "452cf7f8",
   "metadata": {},
   "outputs": [],
   "source": [
    "df['stop_time']=pd.to_datetime(df['stop_time'])"
   ]
  },
  {
   "cell_type": "code",
   "execution_count": 15,
   "id": "589bbfa6",
   "metadata": {},
   "outputs": [
    {
     "data": {
      "text/html": [
       "<div>\n",
       "<style scoped>\n",
       "    .dataframe tbody tr th:only-of-type {\n",
       "        vertical-align: middle;\n",
       "    }\n",
       "\n",
       "    .dataframe tbody tr th {\n",
       "        vertical-align: top;\n",
       "    }\n",
       "\n",
       "    .dataframe thead th {\n",
       "        text-align: right;\n",
       "    }\n",
       "</style>\n",
       "<table border=\"1\" class=\"dataframe\">\n",
       "  <thead>\n",
       "    <tr style=\"text-align: right;\">\n",
       "      <th></th>\n",
       "      <th>stop_date</th>\n",
       "      <th>stop_time</th>\n",
       "      <th>county_name</th>\n",
       "      <th>driver_gender</th>\n",
       "      <th>driver_age_raw</th>\n",
       "      <th>driver_age</th>\n",
       "      <th>driver_race</th>\n",
       "      <th>violation_raw</th>\n",
       "      <th>violation</th>\n",
       "      <th>search_conducted</th>\n",
       "      <th>stop_outcome</th>\n",
       "      <th>is_arrested</th>\n",
       "      <th>drugs_related_stop</th>\n",
       "    </tr>\n",
       "  </thead>\n",
       "  <tbody>\n",
       "    <tr>\n",
       "      <th>0</th>\n",
       "      <td>2013-09-08</td>\n",
       "      <td>2024-01-25 09:50:00</td>\n",
       "      <td>NaN</td>\n",
       "      <td>F</td>\n",
       "      <td>1914</td>\n",
       "      <td>99.0</td>\n",
       "      <td>White</td>\n",
       "      <td>Other Traffic Violation</td>\n",
       "      <td>Moving violation</td>\n",
       "      <td>False</td>\n",
       "      <td>Citation</td>\n",
       "      <td>False</td>\n",
       "      <td>False</td>\n",
       "    </tr>\n",
       "    <tr>\n",
       "      <th>1</th>\n",
       "      <td>2006-09-06</td>\n",
       "      <td>2024-01-25 12:15:00</td>\n",
       "      <td>NaN</td>\n",
       "      <td>M</td>\n",
       "      <td>1918</td>\n",
       "      <td>88.0</td>\n",
       "      <td>White</td>\n",
       "      <td>Speeding</td>\n",
       "      <td>Speeding</td>\n",
       "      <td>False</td>\n",
       "      <td>Citation</td>\n",
       "      <td>False</td>\n",
       "      <td>False</td>\n",
       "    </tr>\n",
       "  </tbody>\n",
       "</table>\n",
       "</div>"
      ],
      "text/plain": [
       "   stop_date           stop_time  county_name driver_gender  driver_age_raw  \\\n",
       "0 2013-09-08 2024-01-25 09:50:00          NaN             F            1914   \n",
       "1 2006-09-06 2024-01-25 12:15:00          NaN             M            1918   \n",
       "\n",
       "   driver_age driver_race            violation_raw         violation  \\\n",
       "0        99.0       White  Other Traffic Violation  Moving violation   \n",
       "1        88.0       White                 Speeding          Speeding   \n",
       "\n",
       "   search_conducted stop_outcome is_arrested  drugs_related_stop  \n",
       "0             False     Citation       False               False  \n",
       "1             False     Citation       False               False  "
      ]
     },
     "execution_count": 15,
     "metadata": {},
     "output_type": "execute_result"
    }
   ],
   "source": [
    "df.head(2)"
   ]
  },
  {
   "cell_type": "code",
   "execution_count": 16,
   "id": "0ddd85da",
   "metadata": {},
   "outputs": [
    {
     "name": "stdout",
     "output_type": "stream",
     "text": [
      "<class 'pandas.core.frame.DataFrame'>\n",
      "RangeIndex: 86154 entries, 0 to 86153\n",
      "Data columns (total 13 columns):\n",
      " #   Column              Non-Null Count  Dtype         \n",
      "---  ------              --------------  -----         \n",
      " 0   stop_date           86154 non-null  datetime64[ns]\n",
      " 1   stop_time           86154 non-null  datetime64[ns]\n",
      " 2   county_name         0 non-null      float64       \n",
      " 3   driver_gender       86147 non-null  object        \n",
      " 4   driver_age_raw      86154 non-null  int64         \n",
      " 5   driver_age          86120 non-null  float64       \n",
      " 6   driver_race         86149 non-null  object        \n",
      " 7   violation_raw       86149 non-null  object        \n",
      " 8   violation           86149 non-null  object        \n",
      " 9   search_conducted    86154 non-null  bool          \n",
      " 10  stop_outcome        86149 non-null  object        \n",
      " 11  is_arrested         86149 non-null  object        \n",
      " 12  drugs_related_stop  86154 non-null  bool          \n",
      "dtypes: bool(2), datetime64[ns](2), float64(2), int64(1), object(6)\n",
      "memory usage: 7.4+ MB\n"
     ]
    }
   ],
   "source": [
    "df.info()"
   ]
  },
  {
   "cell_type": "code",
   "execution_count": 17,
   "id": "3c30f2b0",
   "metadata": {},
   "outputs": [
    {
     "data": {
      "text/html": [
       "<div>\n",
       "<style scoped>\n",
       "    .dataframe tbody tr th:only-of-type {\n",
       "        vertical-align: middle;\n",
       "    }\n",
       "\n",
       "    .dataframe tbody tr th {\n",
       "        vertical-align: top;\n",
       "    }\n",
       "\n",
       "    .dataframe thead th {\n",
       "        text-align: right;\n",
       "    }\n",
       "</style>\n",
       "<table border=\"1\" class=\"dataframe\">\n",
       "  <thead>\n",
       "    <tr style=\"text-align: right;\">\n",
       "      <th></th>\n",
       "      <th>stop_date</th>\n",
       "      <th>stop_time</th>\n",
       "      <th>county_name</th>\n",
       "      <th>driver_gender</th>\n",
       "      <th>driver_age_raw</th>\n",
       "      <th>driver_age</th>\n",
       "      <th>driver_race</th>\n",
       "      <th>violation_raw</th>\n",
       "      <th>violation</th>\n",
       "      <th>search_conducted</th>\n",
       "      <th>stop_outcome</th>\n",
       "      <th>is_arrested</th>\n",
       "      <th>drugs_related_stop</th>\n",
       "    </tr>\n",
       "  </thead>\n",
       "  <tbody>\n",
       "    <tr>\n",
       "      <th>0</th>\n",
       "      <td>2013-09-08</td>\n",
       "      <td>2024-01-25 09:50:00</td>\n",
       "      <td>NaN</td>\n",
       "      <td>F</td>\n",
       "      <td>1914</td>\n",
       "      <td>99.0</td>\n",
       "      <td>White</td>\n",
       "      <td>Other Traffic Violation</td>\n",
       "      <td>Moving violation</td>\n",
       "      <td>False</td>\n",
       "      <td>Citation</td>\n",
       "      <td>False</td>\n",
       "      <td>False</td>\n",
       "    </tr>\n",
       "    <tr>\n",
       "      <th>1</th>\n",
       "      <td>2006-09-06</td>\n",
       "      <td>2024-01-25 12:15:00</td>\n",
       "      <td>NaN</td>\n",
       "      <td>M</td>\n",
       "      <td>1918</td>\n",
       "      <td>88.0</td>\n",
       "      <td>White</td>\n",
       "      <td>Speeding</td>\n",
       "      <td>Speeding</td>\n",
       "      <td>False</td>\n",
       "      <td>Citation</td>\n",
       "      <td>False</td>\n",
       "      <td>False</td>\n",
       "    </tr>\n",
       "  </tbody>\n",
       "</table>\n",
       "</div>"
      ],
      "text/plain": [
       "   stop_date           stop_time  county_name driver_gender  driver_age_raw  \\\n",
       "0 2013-09-08 2024-01-25 09:50:00          NaN             F            1914   \n",
       "1 2006-09-06 2024-01-25 12:15:00          NaN             M            1918   \n",
       "\n",
       "   driver_age driver_race            violation_raw         violation  \\\n",
       "0        99.0       White  Other Traffic Violation  Moving violation   \n",
       "1        88.0       White                 Speeding          Speeding   \n",
       "\n",
       "   search_conducted stop_outcome is_arrested  drugs_related_stop  \n",
       "0             False     Citation       False               False  \n",
       "1             False     Citation       False               False  "
      ]
     },
     "execution_count": 17,
     "metadata": {},
     "output_type": "execute_result"
    }
   ],
   "source": [
    "df.head(2)"
   ]
  },
  {
   "cell_type": "code",
   "execution_count": 18,
   "id": "8a655dee",
   "metadata": {},
   "outputs": [],
   "source": [
    "# lets create a column that tells you which year the person stopped\n",
    "df['year']=df['stop_date'].dt.year"
   ]
  },
  {
   "cell_type": "code",
   "execution_count": 19,
   "id": "6386adf0",
   "metadata": {},
   "outputs": [
    {
     "data": {
      "text/html": [
       "<div>\n",
       "<style scoped>\n",
       "    .dataframe tbody tr th:only-of-type {\n",
       "        vertical-align: middle;\n",
       "    }\n",
       "\n",
       "    .dataframe tbody tr th {\n",
       "        vertical-align: top;\n",
       "    }\n",
       "\n",
       "    .dataframe thead th {\n",
       "        text-align: right;\n",
       "    }\n",
       "</style>\n",
       "<table border=\"1\" class=\"dataframe\">\n",
       "  <thead>\n",
       "    <tr style=\"text-align: right;\">\n",
       "      <th></th>\n",
       "      <th>stop_date</th>\n",
       "      <th>stop_time</th>\n",
       "      <th>county_name</th>\n",
       "      <th>driver_gender</th>\n",
       "      <th>driver_age_raw</th>\n",
       "      <th>driver_age</th>\n",
       "      <th>driver_race</th>\n",
       "      <th>violation_raw</th>\n",
       "      <th>violation</th>\n",
       "      <th>search_conducted</th>\n",
       "      <th>stop_outcome</th>\n",
       "      <th>is_arrested</th>\n",
       "      <th>drugs_related_stop</th>\n",
       "      <th>year</th>\n",
       "    </tr>\n",
       "  </thead>\n",
       "  <tbody>\n",
       "    <tr>\n",
       "      <th>0</th>\n",
       "      <td>2013-09-08</td>\n",
       "      <td>2024-01-25 09:50:00</td>\n",
       "      <td>NaN</td>\n",
       "      <td>F</td>\n",
       "      <td>1914</td>\n",
       "      <td>99.0</td>\n",
       "      <td>White</td>\n",
       "      <td>Other Traffic Violation</td>\n",
       "      <td>Moving violation</td>\n",
       "      <td>False</td>\n",
       "      <td>Citation</td>\n",
       "      <td>False</td>\n",
       "      <td>False</td>\n",
       "      <td>2013</td>\n",
       "    </tr>\n",
       "  </tbody>\n",
       "</table>\n",
       "</div>"
      ],
      "text/plain": [
       "   stop_date           stop_time  county_name driver_gender  driver_age_raw  \\\n",
       "0 2013-09-08 2024-01-25 09:50:00          NaN             F            1914   \n",
       "\n",
       "   driver_age driver_race            violation_raw         violation  \\\n",
       "0        99.0       White  Other Traffic Violation  Moving violation   \n",
       "\n",
       "   search_conducted stop_outcome is_arrested  drugs_related_stop  year  \n",
       "0             False     Citation       False               False  2013  "
      ]
     },
     "execution_count": 19,
     "metadata": {},
     "output_type": "execute_result"
    }
   ],
   "source": [
    "df.head(1)"
   ]
  },
  {
   "cell_type": "code",
   "execution_count": 20,
   "id": "a9bcd686",
   "metadata": {},
   "outputs": [],
   "source": [
    "df['month']=df['stop_date'].dt.month"
   ]
  },
  {
   "cell_type": "code",
   "execution_count": 21,
   "id": "8a9d2204",
   "metadata": {},
   "outputs": [
    {
     "data": {
      "text/html": [
       "<div>\n",
       "<style scoped>\n",
       "    .dataframe tbody tr th:only-of-type {\n",
       "        vertical-align: middle;\n",
       "    }\n",
       "\n",
       "    .dataframe tbody tr th {\n",
       "        vertical-align: top;\n",
       "    }\n",
       "\n",
       "    .dataframe thead th {\n",
       "        text-align: right;\n",
       "    }\n",
       "</style>\n",
       "<table border=\"1\" class=\"dataframe\">\n",
       "  <thead>\n",
       "    <tr style=\"text-align: right;\">\n",
       "      <th></th>\n",
       "      <th>stop_date</th>\n",
       "      <th>stop_time</th>\n",
       "      <th>county_name</th>\n",
       "      <th>driver_gender</th>\n",
       "      <th>driver_age_raw</th>\n",
       "      <th>driver_age</th>\n",
       "      <th>driver_race</th>\n",
       "      <th>violation_raw</th>\n",
       "      <th>violation</th>\n",
       "      <th>search_conducted</th>\n",
       "      <th>stop_outcome</th>\n",
       "      <th>is_arrested</th>\n",
       "      <th>drugs_related_stop</th>\n",
       "      <th>year</th>\n",
       "      <th>month</th>\n",
       "    </tr>\n",
       "  </thead>\n",
       "  <tbody>\n",
       "    <tr>\n",
       "      <th>57169</th>\n",
       "      <td>2006-06-15</td>\n",
       "      <td>2024-01-25 13:50:00</td>\n",
       "      <td>NaN</td>\n",
       "      <td>M</td>\n",
       "      <td>1985</td>\n",
       "      <td>21.0</td>\n",
       "      <td>White</td>\n",
       "      <td>Equipment/Inspection Violation</td>\n",
       "      <td>Equipment</td>\n",
       "      <td>True</td>\n",
       "      <td>Citation</td>\n",
       "      <td>False</td>\n",
       "      <td>True</td>\n",
       "      <td>2006</td>\n",
       "      <td>6</td>\n",
       "    </tr>\n",
       "    <tr>\n",
       "      <th>68438</th>\n",
       "      <td>2008-07-14</td>\n",
       "      <td>2024-01-25 03:20:00</td>\n",
       "      <td>NaN</td>\n",
       "      <td>F</td>\n",
       "      <td>1988</td>\n",
       "      <td>20.0</td>\n",
       "      <td>White</td>\n",
       "      <td>Speeding</td>\n",
       "      <td>Speeding</td>\n",
       "      <td>False</td>\n",
       "      <td>Citation</td>\n",
       "      <td>False</td>\n",
       "      <td>False</td>\n",
       "      <td>2008</td>\n",
       "      <td>7</td>\n",
       "    </tr>\n",
       "    <tr>\n",
       "      <th>57356</th>\n",
       "      <td>2006-10-30</td>\n",
       "      <td>2024-01-25 11:10:00</td>\n",
       "      <td>NaN</td>\n",
       "      <td>M</td>\n",
       "      <td>1985</td>\n",
       "      <td>21.0</td>\n",
       "      <td>White</td>\n",
       "      <td>Speeding</td>\n",
       "      <td>Speeding</td>\n",
       "      <td>False</td>\n",
       "      <td>Citation</td>\n",
       "      <td>False</td>\n",
       "      <td>False</td>\n",
       "      <td>2006</td>\n",
       "      <td>10</td>\n",
       "    </tr>\n",
       "  </tbody>\n",
       "</table>\n",
       "</div>"
      ],
      "text/plain": [
       "       stop_date           stop_time  county_name driver_gender  \\\n",
       "57169 2006-06-15 2024-01-25 13:50:00          NaN             M   \n",
       "68438 2008-07-14 2024-01-25 03:20:00          NaN             F   \n",
       "57356 2006-10-30 2024-01-25 11:10:00          NaN             M   \n",
       "\n",
       "       driver_age_raw  driver_age driver_race                   violation_raw  \\\n",
       "57169            1985        21.0       White  Equipment/Inspection Violation   \n",
       "68438            1988        20.0       White                        Speeding   \n",
       "57356            1985        21.0       White                        Speeding   \n",
       "\n",
       "       violation  search_conducted stop_outcome is_arrested  \\\n",
       "57169  Equipment              True     Citation       False   \n",
       "68438   Speeding             False     Citation       False   \n",
       "57356   Speeding             False     Citation       False   \n",
       "\n",
       "       drugs_related_stop  year  month  \n",
       "57169                True  2006      6  \n",
       "68438               False  2008      7  \n",
       "57356               False  2006     10  "
      ]
     },
     "execution_count": 21,
     "metadata": {},
     "output_type": "execute_result"
    }
   ],
   "source": [
    "df.sample(3)"
   ]
  },
  {
   "cell_type": "markdown",
   "id": "85529bef",
   "metadata": {},
   "source": [
    "###  `drop()` to drop that particular column\n",
    "* axis=1 (column), inplace=True"
   ]
  },
  {
   "cell_type": "code",
   "execution_count": 22,
   "id": "6b128d95",
   "metadata": {},
   "outputs": [
    {
     "data": {
      "text/plain": [
       "Index(['stop_date', 'stop_time', 'county_name', 'driver_gender',\n",
       "       'driver_age_raw', 'driver_age', 'driver_race', 'violation_raw',\n",
       "       'violation', 'search_conducted', 'stop_outcome', 'is_arrested',\n",
       "       'drugs_related_stop', 'year', 'month'],\n",
       "      dtype='object')"
      ]
     },
     "execution_count": 22,
     "metadata": {},
     "output_type": "execute_result"
    }
   ],
   "source": [
    "df.columns"
   ]
  },
  {
   "cell_type": "code",
   "execution_count": 23,
   "id": "f4db3ffd",
   "metadata": {},
   "outputs": [],
   "source": [
    "df.drop(['county_name','violation_raw'], \n",
    "        axis=1, \n",
    "        inplace=True)"
   ]
  },
  {
   "cell_type": "code",
   "execution_count": 24,
   "id": "da62dcfc",
   "metadata": {},
   "outputs": [
    {
     "name": "stdout",
     "output_type": "stream",
     "text": [
      "<class 'pandas.core.frame.DataFrame'>\n",
      "RangeIndex: 86154 entries, 0 to 86153\n",
      "Data columns (total 13 columns):\n",
      " #   Column              Non-Null Count  Dtype         \n",
      "---  ------              --------------  -----         \n",
      " 0   stop_date           86154 non-null  datetime64[ns]\n",
      " 1   stop_time           86154 non-null  datetime64[ns]\n",
      " 2   driver_gender       86147 non-null  object        \n",
      " 3   driver_age_raw      86154 non-null  int64         \n",
      " 4   driver_age          86120 non-null  float64       \n",
      " 5   driver_race         86149 non-null  object        \n",
      " 6   violation           86149 non-null  object        \n",
      " 7   search_conducted    86154 non-null  bool          \n",
      " 8   stop_outcome        86149 non-null  object        \n",
      " 9   is_arrested         86149 non-null  object        \n",
      " 10  drugs_related_stop  86154 non-null  bool          \n",
      " 11  year                86154 non-null  int64         \n",
      " 12  month               86154 non-null  int64         \n",
      "dtypes: bool(2), datetime64[ns](2), float64(1), int64(3), object(5)\n",
      "memory usage: 7.4+ MB\n"
     ]
    }
   ],
   "source": [
    "df.info()"
   ]
  },
  {
   "cell_type": "code",
   "execution_count": null,
   "id": "4121206f",
   "metadata": {},
   "outputs": [],
   "source": []
  },
  {
   "cell_type": "markdown",
   "id": "b3f9af18",
   "metadata": {},
   "source": [
    "### `nunique()`  can use to find the no. of unique values in our series or data"
   ]
  },
  {
   "cell_type": "code",
   "execution_count": 25,
   "id": "a0e4d7b2",
   "metadata": {},
   "outputs": [
    {
     "data": {
      "text/plain": [
       "5"
      ]
     },
     "execution_count": 25,
     "metadata": {},
     "output_type": "execute_result"
    }
   ],
   "source": [
    "# How many unique races in your data set \n",
    "df['driver_race'].nunique()"
   ]
  },
  {
   "cell_type": "code",
   "execution_count": 26,
   "id": "b5668e3b",
   "metadata": {},
   "outputs": [
    {
     "data": {
      "text/plain": [
       "6"
      ]
     },
     "execution_count": 26,
     "metadata": {},
     "output_type": "execute_result"
    }
   ],
   "source": [
    "# how many unique violation in the data set\n",
    "df['violation'].nunique()"
   ]
  },
  {
   "cell_type": "markdown",
   "id": "330cc83d",
   "metadata": {},
   "source": [
    "### value_counts() is used to identify the different categories in a feature as well as the count of values per category `(applicable to the categorical columns)`"
   ]
  },
  {
   "cell_type": "code",
   "execution_count": 27,
   "id": "04b76df6",
   "metadata": {},
   "outputs": [
    {
     "data": {
      "text/plain": [
       "White       61972\n",
       "Black       12203\n",
       "Hispanic     9482\n",
       "Asian        2253\n",
       "Other         239\n",
       "Name: driver_race, dtype: int64"
      ]
     },
     "execution_count": 27,
     "metadata": {},
     "output_type": "execute_result"
    }
   ],
   "source": [
    "df['driver_race'].value_counts()"
   ]
  },
  {
   "cell_type": "code",
   "execution_count": 28,
   "id": "19a8b744",
   "metadata": {},
   "outputs": [
    {
     "data": {
      "text/plain": [
       "Citation            76851\n",
       "Warning              5216\n",
       "Arrest Driver        2569\n",
       "N/D                   590\n",
       "No Action             565\n",
       "Arrest Passenger      358\n",
       "Name: stop_outcome, dtype: int64"
      ]
     },
     "execution_count": 28,
     "metadata": {},
     "output_type": "execute_result"
    }
   ],
   "source": [
    "#stop_outcome \n",
    "df['stop_outcome'].value_counts()"
   ]
  },
  {
   "cell_type": "markdown",
   "id": "3c4052da",
   "metadata": {},
   "source": [
    "### `describe()`to get various information about the `numerical columns`"
   ]
  },
  {
   "cell_type": "code",
   "execution_count": 29,
   "id": "b171b59f",
   "metadata": {},
   "outputs": [
    {
     "data": {
      "text/html": [
       "<div>\n",
       "<style scoped>\n",
       "    .dataframe tbody tr th:only-of-type {\n",
       "        vertical-align: middle;\n",
       "    }\n",
       "\n",
       "    .dataframe tbody tr th {\n",
       "        vertical-align: top;\n",
       "    }\n",
       "\n",
       "    .dataframe thead th {\n",
       "        text-align: right;\n",
       "    }\n",
       "</style>\n",
       "<table border=\"1\" class=\"dataframe\">\n",
       "  <thead>\n",
       "    <tr style=\"text-align: right;\">\n",
       "      <th></th>\n",
       "      <th>driver_age_raw</th>\n",
       "      <th>driver_age</th>\n",
       "      <th>year</th>\n",
       "      <th>month</th>\n",
       "    </tr>\n",
       "  </thead>\n",
       "  <tbody>\n",
       "    <tr>\n",
       "      <th>count</th>\n",
       "      <td>86154.000000</td>\n",
       "      <td>86120.000000</td>\n",
       "      <td>86154.000000</td>\n",
       "      <td>86154.000000</td>\n",
       "    </tr>\n",
       "    <tr>\n",
       "      <th>mean</th>\n",
       "      <td>1976.279941</td>\n",
       "      <td>34.011333</td>\n",
       "      <td>2010.278884</td>\n",
       "      <td>6.454419</td>\n",
       "    </tr>\n",
       "    <tr>\n",
       "      <th>std</th>\n",
       "      <td>13.073356</td>\n",
       "      <td>12.738564</td>\n",
       "      <td>3.046527</td>\n",
       "      <td>3.457272</td>\n",
       "    </tr>\n",
       "    <tr>\n",
       "      <th>min</th>\n",
       "      <td>1914.000000</td>\n",
       "      <td>15.000000</td>\n",
       "      <td>2005.000000</td>\n",
       "      <td>1.000000</td>\n",
       "    </tr>\n",
       "    <tr>\n",
       "      <th>25%</th>\n",
       "      <td>1967.000000</td>\n",
       "      <td>23.000000</td>\n",
       "      <td>2008.000000</td>\n",
       "      <td>3.000000</td>\n",
       "    </tr>\n",
       "    <tr>\n",
       "      <th>50%</th>\n",
       "      <td>1980.000000</td>\n",
       "      <td>31.000000</td>\n",
       "      <td>2010.000000</td>\n",
       "      <td>6.000000</td>\n",
       "    </tr>\n",
       "    <tr>\n",
       "      <th>75%</th>\n",
       "      <td>1987.000000</td>\n",
       "      <td>43.000000</td>\n",
       "      <td>2013.000000</td>\n",
       "      <td>9.000000</td>\n",
       "    </tr>\n",
       "    <tr>\n",
       "      <th>max</th>\n",
       "      <td>2013.000000</td>\n",
       "      <td>99.000000</td>\n",
       "      <td>2015.000000</td>\n",
       "      <td>12.000000</td>\n",
       "    </tr>\n",
       "  </tbody>\n",
       "</table>\n",
       "</div>"
      ],
      "text/plain": [
       "       driver_age_raw    driver_age          year         month\n",
       "count    86154.000000  86120.000000  86154.000000  86154.000000\n",
       "mean      1976.279941     34.011333   2010.278884      6.454419\n",
       "std         13.073356     12.738564      3.046527      3.457272\n",
       "min       1914.000000     15.000000   2005.000000      1.000000\n",
       "25%       1967.000000     23.000000   2008.000000      3.000000\n",
       "50%       1980.000000     31.000000   2010.000000      6.000000\n",
       "75%       1987.000000     43.000000   2013.000000      9.000000\n",
       "max       2013.000000     99.000000   2015.000000     12.000000"
      ]
     },
     "execution_count": 29,
     "metadata": {},
     "output_type": "execute_result"
    }
   ],
   "source": [
    "# Descriptive statistics\n",
    "df.describe()"
   ]
  },
  {
   "cell_type": "markdown",
   "id": "523ab039",
   "metadata": {},
   "source": [
    "## Missing value imputation"
   ]
  },
  {
   "cell_type": "markdown",
   "id": "f6ddcece",
   "metadata": {},
   "source": [
    "### `isnull()`.sum() to find that the no. of null values in a DataFrame"
   ]
  },
  {
   "cell_type": "code",
   "execution_count": 30,
   "id": "c6f3a35b",
   "metadata": {},
   "outputs": [
    {
     "data": {
      "text/plain": [
       "7"
      ]
     },
     "execution_count": 30,
     "metadata": {},
     "output_type": "execute_result"
    }
   ],
   "source": [
    "df['driver_gender'].isnull().sum()"
   ]
  },
  {
   "cell_type": "code",
   "execution_count": 31,
   "id": "554955ce",
   "metadata": {},
   "outputs": [
    {
     "data": {
      "text/plain": [
       "stop_date              0\n",
       "stop_time              0\n",
       "driver_gender          7\n",
       "driver_age_raw         0\n",
       "driver_age            34\n",
       "driver_race            5\n",
       "violation              5\n",
       "search_conducted       0\n",
       "stop_outcome           5\n",
       "is_arrested            5\n",
       "drugs_related_stop     0\n",
       "year                   0\n",
       "month                  0\n",
       "dtype: int64"
      ]
     },
     "execution_count": 31,
     "metadata": {},
     "output_type": "execute_result"
    }
   ],
   "source": [
    "df.isnull().sum()"
   ]
  },
  {
   "cell_type": "markdown",
   "id": "4fe75366",
   "metadata": {},
   "source": [
    "###  `fillna()` by using the “isnull()” and “sum()” functions, we can check if our data has any missing values or not. we will fill up the missing values using the mode(a value that appears most frequently in a data set) of this particular feature using the “fillna()” function.\n",
    "- mean (Numerical)\n",
    "- mode/most frequent (Numerical/ Categorical)\n",
    "- median (Numerical)\n",
    "- constant(Numerical/ categorical)\n"
   ]
  },
  {
   "cell_type": "markdown",
   "id": "0b9a4f26",
   "metadata": {},
   "source": [
    "#### inplace=true\n",
    "* Pandas create a copy of the original data.\n",
    "* Performs the required operation on it.\n",
    "* Assigns the results to the original data. (Important point to consider here).\n",
    "* Then deletes the copy."
   ]
  },
  {
   "cell_type": "code",
   "execution_count": 32,
   "id": "60b1ee69",
   "metadata": {},
   "outputs": [],
   "source": [
    "gender_mode=df['driver_gender'].mode()[0]"
   ]
  },
  {
   "cell_type": "code",
   "execution_count": 33,
   "id": "643d8aa5",
   "metadata": {},
   "outputs": [
    {
     "data": {
      "text/plain": [
       "'M'"
      ]
     },
     "execution_count": 33,
     "metadata": {},
     "output_type": "execute_result"
    }
   ],
   "source": [
    "gender_mode"
   ]
  },
  {
   "cell_type": "code",
   "execution_count": 34,
   "id": "c80ffb55",
   "metadata": {},
   "outputs": [],
   "source": [
    "df['driver_gender'].fillna(gender_mode, inplace=True)"
   ]
  },
  {
   "cell_type": "code",
   "execution_count": 35,
   "id": "481eb808",
   "metadata": {},
   "outputs": [
    {
     "data": {
      "text/plain": [
       "0"
      ]
     },
     "execution_count": 35,
     "metadata": {},
     "output_type": "execute_result"
    }
   ],
   "source": [
    "df['driver_gender'].isnull().sum()"
   ]
  },
  {
   "cell_type": "code",
   "execution_count": 36,
   "id": "7e0f3b68",
   "metadata": {},
   "outputs": [],
   "source": [
    "df['driver_age'].fillna(df['driver_age'].mean(),\n",
    "                        inplace=True)"
   ]
  },
  {
   "cell_type": "code",
   "execution_count": 37,
   "id": "fd46ab40",
   "metadata": {},
   "outputs": [
    {
     "data": {
      "text/plain": [
       "0"
      ]
     },
     "execution_count": 37,
     "metadata": {},
     "output_type": "execute_result"
    }
   ],
   "source": [
    "df['driver_age'].isnull().sum()"
   ]
  },
  {
   "cell_type": "code",
   "execution_count": 38,
   "id": "c7d4e0bd",
   "metadata": {},
   "outputs": [],
   "source": [
    "# driver_race use mode\n",
    "df['driver_race'].fillna(df['driver_race'].mode()[0], inplace=True)"
   ]
  },
  {
   "cell_type": "code",
   "execution_count": 39,
   "id": "454fc7e3",
   "metadata": {},
   "outputs": [],
   "source": [
    "# stop_outcome use mode\n",
    "df['stop_outcome'].fillna(df['stop_outcome'].mode()[0], inplace=True)"
   ]
  },
  {
   "cell_type": "code",
   "execution_count": 40,
   "id": "5dd6b6b5",
   "metadata": {},
   "outputs": [],
   "source": [
    "# is_arrested use mode\n",
    "df['is_arrested'].fillna(df['is_arrested'].mode()[0], inplace=True)"
   ]
  },
  {
   "cell_type": "code",
   "execution_count": 41,
   "id": "d9d026f7",
   "metadata": {},
   "outputs": [],
   "source": [
    "# violation imputation using constant\n",
    "df['violation'].fillna('Unknown', \n",
    "                       inplace=True)"
   ]
  },
  {
   "cell_type": "code",
   "execution_count": 42,
   "id": "2869440e",
   "metadata": {},
   "outputs": [
    {
     "data": {
      "text/plain": [
       "stop_date             0\n",
       "stop_time             0\n",
       "driver_gender         0\n",
       "driver_age_raw        0\n",
       "driver_age            0\n",
       "driver_race           0\n",
       "violation             0\n",
       "search_conducted      0\n",
       "stop_outcome          0\n",
       "is_arrested           0\n",
       "drugs_related_stop    0\n",
       "year                  0\n",
       "month                 0\n",
       "dtype: int64"
      ]
     },
     "execution_count": 42,
     "metadata": {},
     "output_type": "execute_result"
    }
   ],
   "source": [
    "df.isnull().sum()"
   ]
  },
  {
   "cell_type": "markdown",
   "id": "d579b131",
   "metadata": {},
   "source": [
    "### Plot Make plots of Series or DataFrame.\n",
    "\n",
    "Uses the backend specified by the option plotting.backend. By default, matplotlib is used. The `kind` of plot to produce:\n",
    "\n",
    "- ‘line’ : line plot (default)\n",
    "\n",
    "- ‘bar’ : vertical bar plot\n",
    "\n",
    "- ‘barh’ : horizontal bar plot\n",
    "\n",
    "- ‘hist’ : histogram\n",
    "\n",
    "- ‘box’ : boxplot\n",
    "\n",
    "- ‘kde’ : Kernel Density Estimation plot\n",
    "\n",
    "- ‘density’ : same as ‘kde’\n",
    "\n",
    "- ‘area’ : area plot\n",
    "\n",
    "- ‘pie’ : pie plot\n",
    "\n",
    "- ‘scatter’ : scatter plot (DataFrame only)\n",
    "\n",
    "- ‘hexbin’ : hexbin plot (DataFrame only)"
   ]
  },
  {
   "cell_type": "code",
   "execution_count": 43,
   "id": "b89fb5b0",
   "metadata": {},
   "outputs": [
    {
     "data": {
      "text/plain": [
       "<AxesSubplot:>"
      ]
     },
     "execution_count": 43,
     "metadata": {},
     "output_type": "execute_result"
    },
    {
     "data": {
      "image/png": "[encoded data removed]",
      "text/plain": [
       "<Figure size 640x480 with 1 Axes>"
      ]
     },
     "metadata": {},
     "output_type": "display_data"
    }
   ],
   "source": [
    "#Plot the violation\n",
    "df['violation'].value_counts().plot(kind=\"bar\")"
   ]
  },
  {
   "cell_type": "code",
   "execution_count": 44,
   "id": "80181951",
   "metadata": {},
   "outputs": [
    {
     "data": {
      "text/plain": [
       "<AxesSubplot:ylabel='is_arrested'>"
      ]
     },
     "execution_count": 44,
     "metadata": {},
     "output_type": "execute_result"
    },
    {
     "data": {
      "image/png": "[encoded data removed]",
      "text/plain": [
       "<Figure size 640x480 with 1 Axes>"
      ]
     },
     "metadata": {},
     "output_type": "display_data"
    }
   ],
   "source": [
    "# is_arrested\n",
    "df['is_arrested'].value_counts().plot(kind='pie')"
   ]
  },
  {
   "cell_type": "code",
   "execution_count": 45,
   "id": "896da5d2",
   "metadata": {},
   "outputs": [
    {
     "data": {
      "text/plain": [
       "<AxesSubplot:ylabel='Frequency'>"
      ]
     },
     "execution_count": 45,
     "metadata": {},
     "output_type": "execute_result"
    },
    {
     "data": {
      "image/png": "[encoded data removed]",
      "text/plain": [
       "<Figure size 640x480 with 1 Axes>"
      ]
     },
     "metadata": {},
     "output_type": "display_data"
    }
   ],
   "source": [
    "# driver_age\n",
    "df['driver_age'].plot(kind='hist')"
   ]
  },
  {
   "cell_type": "code",
   "execution_count": 46,
   "id": "70e2936e",
   "metadata": {},
   "outputs": [
    {
     "data": {
      "text/plain": [
       "<AxesSubplot:>"
      ]
     },
     "execution_count": 46,
     "metadata": {},
     "output_type": "execute_result"
    },
    {
     "data": {
      "image/png": "[encoded data removed]",
      "text/plain": [
       "<Figure size 640x480 with 1 Axes>"
      ]
     },
     "metadata": {},
     "output_type": "display_data"
    }
   ],
   "source": [
    "df['stop_outcome'].value_counts().plot(kind='barh')"
   ]
  },
  {
   "cell_type": "code",
   "execution_count": 47,
   "id": "952e18a0",
   "metadata": {},
   "outputs": [
    {
     "data": {
      "text/plain": [
       "<AxesSubplot:>"
      ]
     },
     "execution_count": 47,
     "metadata": {},
     "output_type": "execute_result"
    },
    {
     "data": {
      "image/png": "[encoded data removed]",
      "text/plain": [
       "<Figure size 640x480 with 1 Axes>"
      ]
     },
     "metadata": {},
     "output_type": "display_data"
    }
   ],
   "source": [
    "# plot top two stop outcomes\n",
    "df['stop_outcome'].value_counts().head(2).plot(kind='bar')"
   ]
  },
  {
   "cell_type": "markdown",
   "id": "590b505d",
   "metadata": {},
   "source": [
    "###  `nsmallest() & nlargest()` used to obtain “n” no. of rows from our dataset which are lowest or highest respectively"
   ]
  },
  {
   "cell_type": "code",
   "execution_count": 48,
   "id": "4ce35a74",
   "metadata": {},
   "outputs": [
    {
     "data": {
      "text/html": [
       "<div>\n",
       "<style scoped>\n",
       "    .dataframe tbody tr th:only-of-type {\n",
       "        vertical-align: middle;\n",
       "    }\n",
       "\n",
       "    .dataframe tbody tr th {\n",
       "        vertical-align: top;\n",
       "    }\n",
       "\n",
       "    .dataframe thead th {\n",
       "        text-align: right;\n",
       "    }\n",
       "</style>\n",
       "<table border=\"1\" class=\"dataframe\">\n",
       "  <thead>\n",
       "    <tr style=\"text-align: right;\">\n",
       "      <th></th>\n",
       "      <th>stop_date</th>\n",
       "      <th>stop_time</th>\n",
       "      <th>driver_gender</th>\n",
       "      <th>driver_age_raw</th>\n",
       "      <th>driver_age</th>\n",
       "      <th>driver_race</th>\n",
       "      <th>violation</th>\n",
       "      <th>search_conducted</th>\n",
       "      <th>stop_outcome</th>\n",
       "      <th>is_arrested</th>\n",
       "      <th>drugs_related_stop</th>\n",
       "      <th>year</th>\n",
       "      <th>month</th>\n",
       "    </tr>\n",
       "  </thead>\n",
       "  <tbody>\n",
       "    <tr>\n",
       "      <th>77407</th>\n",
       "      <td>2006-09-30</td>\n",
       "      <td>2024-01-25 01:30:00</td>\n",
       "      <td>M</td>\n",
       "      <td>1991</td>\n",
       "      <td>15.0</td>\n",
       "      <td>Black</td>\n",
       "      <td>Moving violation</td>\n",
       "      <td>False</td>\n",
       "      <td>Arrest Driver</td>\n",
       "      <td>True</td>\n",
       "      <td>False</td>\n",
       "      <td>2006</td>\n",
       "      <td>9</td>\n",
       "    </tr>\n",
       "    <tr>\n",
       "      <th>79783</th>\n",
       "      <td>2007-06-11</td>\n",
       "      <td>2024-01-25 12:30:00</td>\n",
       "      <td>M</td>\n",
       "      <td>1992</td>\n",
       "      <td>15.0</td>\n",
       "      <td>White</td>\n",
       "      <td>Speeding</td>\n",
       "      <td>False</td>\n",
       "      <td>Citation</td>\n",
       "      <td>False</td>\n",
       "      <td>False</td>\n",
       "      <td>2007</td>\n",
       "      <td>6</td>\n",
       "    </tr>\n",
       "    <tr>\n",
       "      <th>79784</th>\n",
       "      <td>2007-07-04</td>\n",
       "      <td>2024-01-25 00:40:00</td>\n",
       "      <td>F</td>\n",
       "      <td>1992</td>\n",
       "      <td>15.0</td>\n",
       "      <td>White</td>\n",
       "      <td>Moving violation</td>\n",
       "      <td>False</td>\n",
       "      <td>Arrest Driver</td>\n",
       "      <td>True</td>\n",
       "      <td>False</td>\n",
       "      <td>2007</td>\n",
       "      <td>7</td>\n",
       "    </tr>\n",
       "  </tbody>\n",
       "</table>\n",
       "</div>"
      ],
      "text/plain": [
       "       stop_date           stop_time driver_gender  driver_age_raw  \\\n",
       "77407 2006-09-30 2024-01-25 01:30:00             M            1991   \n",
       "79783 2007-06-11 2024-01-25 12:30:00             M            1992   \n",
       "79784 2007-07-04 2024-01-25 00:40:00             F            1992   \n",
       "\n",
       "       driver_age driver_race         violation  search_conducted  \\\n",
       "77407        15.0       Black  Moving violation             False   \n",
       "79783        15.0       White          Speeding             False   \n",
       "79784        15.0       White  Moving violation             False   \n",
       "\n",
       "        stop_outcome  is_arrested  drugs_related_stop  year  month  \n",
       "77407  Arrest Driver         True               False  2006      9  \n",
       "79783       Citation        False               False  2007      6  \n",
       "79784  Arrest Driver         True               False  2007      7  "
      ]
     },
     "execution_count": 48,
     "metadata": {},
     "output_type": "execute_result"
    }
   ],
   "source": [
    "# print smallest entries of driver age\n",
    "df.nsmallest(3,\"driver_age\")"
   ]
  },
  {
   "cell_type": "code",
   "execution_count": 49,
   "id": "98fb2107",
   "metadata": {},
   "outputs": [
    {
     "data": {
      "text/html": [
       "<div>\n",
       "<style scoped>\n",
       "    .dataframe tbody tr th:only-of-type {\n",
       "        vertical-align: middle;\n",
       "    }\n",
       "\n",
       "    .dataframe tbody tr th {\n",
       "        vertical-align: top;\n",
       "    }\n",
       "\n",
       "    .dataframe thead th {\n",
       "        text-align: right;\n",
       "    }\n",
       "</style>\n",
       "<table border=\"1\" class=\"dataframe\">\n",
       "  <thead>\n",
       "    <tr style=\"text-align: right;\">\n",
       "      <th></th>\n",
       "      <th>stop_date</th>\n",
       "      <th>stop_time</th>\n",
       "      <th>driver_gender</th>\n",
       "      <th>driver_age_raw</th>\n",
       "      <th>driver_age</th>\n",
       "      <th>driver_race</th>\n",
       "      <th>violation</th>\n",
       "      <th>search_conducted</th>\n",
       "      <th>stop_outcome</th>\n",
       "      <th>is_arrested</th>\n",
       "      <th>drugs_related_stop</th>\n",
       "      <th>year</th>\n",
       "      <th>month</th>\n",
       "    </tr>\n",
       "  </thead>\n",
       "  <tbody>\n",
       "    <tr>\n",
       "      <th>0</th>\n",
       "      <td>2013-09-08</td>\n",
       "      <td>2024-01-25 09:50:00</td>\n",
       "      <td>F</td>\n",
       "      <td>1914</td>\n",
       "      <td>99.0</td>\n",
       "      <td>White</td>\n",
       "      <td>Moving violation</td>\n",
       "      <td>False</td>\n",
       "      <td>Citation</td>\n",
       "      <td>False</td>\n",
       "      <td>False</td>\n",
       "      <td>2013</td>\n",
       "      <td>9</td>\n",
       "    </tr>\n",
       "    <tr>\n",
       "      <th>2</th>\n",
       "      <td>2014-02-14</td>\n",
       "      <td>2024-01-25 10:21:00</td>\n",
       "      <td>M</td>\n",
       "      <td>1920</td>\n",
       "      <td>94.0</td>\n",
       "      <td>White</td>\n",
       "      <td>Moving violation</td>\n",
       "      <td>False</td>\n",
       "      <td>Citation</td>\n",
       "      <td>False</td>\n",
       "      <td>False</td>\n",
       "      <td>2014</td>\n",
       "      <td>2</td>\n",
       "    </tr>\n",
       "    <tr>\n",
       "      <th>13</th>\n",
       "      <td>2014-04-25</td>\n",
       "      <td>2024-01-25 16:40:00</td>\n",
       "      <td>M</td>\n",
       "      <td>1924</td>\n",
       "      <td>90.0</td>\n",
       "      <td>White</td>\n",
       "      <td>Speeding</td>\n",
       "      <td>False</td>\n",
       "      <td>Warning</td>\n",
       "      <td>False</td>\n",
       "      <td>False</td>\n",
       "      <td>2014</td>\n",
       "      <td>4</td>\n",
       "    </tr>\n",
       "    <tr>\n",
       "      <th>20</th>\n",
       "      <td>2014-01-18</td>\n",
       "      <td>2024-01-25 13:07:00</td>\n",
       "      <td>F</td>\n",
       "      <td>1925</td>\n",
       "      <td>89.0</td>\n",
       "      <td>White</td>\n",
       "      <td>Equipment</td>\n",
       "      <td>False</td>\n",
       "      <td>N/D</td>\n",
       "      <td>False</td>\n",
       "      <td>False</td>\n",
       "      <td>2014</td>\n",
       "      <td>1</td>\n",
       "    </tr>\n",
       "    <tr>\n",
       "      <th>1</th>\n",
       "      <td>2006-09-06</td>\n",
       "      <td>2024-01-25 12:15:00</td>\n",
       "      <td>M</td>\n",
       "      <td>1918</td>\n",
       "      <td>88.0</td>\n",
       "      <td>White</td>\n",
       "      <td>Speeding</td>\n",
       "      <td>False</td>\n",
       "      <td>Citation</td>\n",
       "      <td>False</td>\n",
       "      <td>False</td>\n",
       "      <td>2006</td>\n",
       "      <td>9</td>\n",
       "    </tr>\n",
       "  </tbody>\n",
       "</table>\n",
       "</div>"
      ],
      "text/plain": [
       "    stop_date           stop_time driver_gender  driver_age_raw  driver_age  \\\n",
       "0  2013-09-08 2024-01-25 09:50:00             F            1914        99.0   \n",
       "2  2014-02-14 2024-01-25 10:21:00             M            1920        94.0   \n",
       "13 2014-04-25 2024-01-25 16:40:00             M            1924        90.0   \n",
       "20 2014-01-18 2024-01-25 13:07:00             F            1925        89.0   \n",
       "1  2006-09-06 2024-01-25 12:15:00             M            1918        88.0   \n",
       "\n",
       "   driver_race         violation  search_conducted stop_outcome  is_arrested  \\\n",
       "0        White  Moving violation             False     Citation        False   \n",
       "2        White  Moving violation             False     Citation        False   \n",
       "13       White          Speeding             False      Warning        False   \n",
       "20       White         Equipment             False          N/D        False   \n",
       "1        White          Speeding             False     Citation        False   \n",
       "\n",
       "    drugs_related_stop  year  month  \n",
       "0                False  2013      9  \n",
       "2                False  2014      2  \n",
       "13               False  2014      4  \n",
       "20               False  2014      1  \n",
       "1                False  2006      9  "
      ]
     },
     "execution_count": 49,
     "metadata": {},
     "output_type": "execute_result"
    }
   ],
   "source": [
    "df.nlargest(5, 'driver_age')"
   ]
  },
  {
   "cell_type": "code",
   "execution_count": null,
   "id": "3c94dc99",
   "metadata": {},
   "outputs": [],
   "source": []
  },
  {
   "cell_type": "markdown",
   "id": "e1848026",
   "metadata": {},
   "source": [
    "### `groupby()` is very useful in data analysis as it allows us to unveil the underlying relationships among different variables. \n",
    "And then we can apply Aggregations as well on the groups with the “agg()” function and pass it with various aggregation operations such as mean, size, sum, std etc."
   ]
  },
  {
   "cell_type": "code",
   "execution_count": 50,
   "id": "b655fba0",
   "metadata": {},
   "outputs": [
    {
     "data": {
      "text/html": [
       "<div>\n",
       "<style scoped>\n",
       "    .dataframe tbody tr th:only-of-type {\n",
       "        vertical-align: middle;\n",
       "    }\n",
       "\n",
       "    .dataframe tbody tr th {\n",
       "        vertical-align: top;\n",
       "    }\n",
       "\n",
       "    .dataframe thead th {\n",
       "        text-align: right;\n",
       "    }\n",
       "</style>\n",
       "<table border=\"1\" class=\"dataframe\">\n",
       "  <thead>\n",
       "    <tr style=\"text-align: right;\">\n",
       "      <th></th>\n",
       "      <th>driver_age_raw</th>\n",
       "      <th>driver_age</th>\n",
       "      <th>year</th>\n",
       "      <th>month</th>\n",
       "    </tr>\n",
       "    <tr>\n",
       "      <th>stop_outcome</th>\n",
       "      <th></th>\n",
       "      <th></th>\n",
       "      <th></th>\n",
       "      <th></th>\n",
       "    </tr>\n",
       "  </thead>\n",
       "  <tbody>\n",
       "    <tr>\n",
       "      <th>Arrest Driver</th>\n",
       "      <td>1980.0</td>\n",
       "      <td>29.0</td>\n",
       "      <td>2010.0</td>\n",
       "      <td>7.0</td>\n",
       "    </tr>\n",
       "    <tr>\n",
       "      <th>Arrest Passenger</th>\n",
       "      <td>1982.5</td>\n",
       "      <td>28.0</td>\n",
       "      <td>2011.0</td>\n",
       "      <td>6.5</td>\n",
       "    </tr>\n",
       "    <tr>\n",
       "      <th>Citation</th>\n",
       "      <td>1980.0</td>\n",
       "      <td>30.0</td>\n",
       "      <td>2010.0</td>\n",
       "      <td>6.0</td>\n",
       "    </tr>\n",
       "    <tr>\n",
       "      <th>N/D</th>\n",
       "      <td>1981.0</td>\n",
       "      <td>29.0</td>\n",
       "      <td>2010.0</td>\n",
       "      <td>5.0</td>\n",
       "    </tr>\n",
       "    <tr>\n",
       "      <th>No Action</th>\n",
       "      <td>1977.0</td>\n",
       "      <td>34.0</td>\n",
       "      <td>2012.0</td>\n",
       "      <td>7.0</td>\n",
       "    </tr>\n",
       "    <tr>\n",
       "      <th>Warning</th>\n",
       "      <td>1981.0</td>\n",
       "      <td>32.0</td>\n",
       "      <td>2013.0</td>\n",
       "      <td>7.0</td>\n",
       "    </tr>\n",
       "  </tbody>\n",
       "</table>\n",
       "</div>"
      ],
      "text/plain": [
       "                  driver_age_raw  driver_age    year  month\n",
       "stop_outcome                                               \n",
       "Arrest Driver             1980.0        29.0  2010.0    7.0\n",
       "Arrest Passenger          1982.5        28.0  2011.0    6.5\n",
       "Citation                  1980.0        30.0  2010.0    6.0\n",
       "N/D                       1981.0        29.0  2010.0    5.0\n",
       "No Action                 1977.0        34.0  2012.0    7.0\n",
       "Warning                   1981.0        32.0  2013.0    7.0"
      ]
     },
     "execution_count": 50,
     "metadata": {},
     "output_type": "execute_result"
    }
   ],
   "source": [
    "numeric_columns = df.select_dtypes(include='number')  \n",
    "df.groupby(['stop_outcome'])[numeric_columns.columns].median()"
   ]
  },
  {
   "cell_type": "code",
   "execution_count": 55,
   "id": "69746277",
   "metadata": {},
   "outputs": [
    {
     "data": {
      "text/plain": [
       "violation\n",
       "Equipment              2005\n",
       "Moving violation       2005\n",
       "Other                  2005\n",
       "Registration/plates    2005\n",
       "Seat belt              2012\n",
       "Speeding               2005\n",
       "Unknown                2005\n",
       "Name: year, dtype: int64"
      ]
     },
     "execution_count": 55,
     "metadata": {},
     "output_type": "execute_result"
    }
   ],
   "source": [
    "# violation grouping them on the year and calculate the max\n",
    "df.groupby(['violation'])['year'].min()"
   ]
  },
  {
   "cell_type": "code",
   "execution_count": 56,
   "id": "2e91d9f7",
   "metadata": {},
   "outputs": [
    {
     "data": {
      "text/plain": [
       "stop_outcome\n",
       "Arrest Driver       15.0\n",
       "Arrest Passenger    17.0\n",
       "Citation            15.0\n",
       "N/D                 17.0\n",
       "No Action           16.0\n",
       "Warning             16.0\n",
       "Name: driver_age, dtype: float64"
      ]
     },
     "execution_count": 56,
     "metadata": {},
     "output_type": "execute_result"
    }
   ],
   "source": [
    "#stop_outcome , driver age , maximum of it\n",
    "df.groupby(['stop_outcome'])['driver_age'].min()"
   ]
  },
  {
   "cell_type": "markdown",
   "id": "ee032ea4",
   "metadata": {},
   "source": [
    "### loc() and iloc()\n",
    "loc() and iloc() methods are used in slicing data from the pandas DataFrame which helps in filtering the data according to some given condition.\n",
    "* loc – select by labels\n",
    "* iloc – select by positions [row,columns]"
   ]
  },
  {
   "cell_type": "code",
   "execution_count": 61,
   "id": "e4779ec9",
   "metadata": {},
   "outputs": [
    {
     "data": {
      "text/html": [
       "<div>\n",
       "<style scoped>\n",
       "    .dataframe tbody tr th:only-of-type {\n",
       "        vertical-align: middle;\n",
       "    }\n",
       "\n",
       "    .dataframe tbody tr th {\n",
       "        vertical-align: top;\n",
       "    }\n",
       "\n",
       "    .dataframe thead th {\n",
       "        text-align: right;\n",
       "    }\n",
       "</style>\n",
       "<table border=\"1\" class=\"dataframe\">\n",
       "  <thead>\n",
       "    <tr style=\"text-align: right;\">\n",
       "      <th></th>\n",
       "      <th>stop_date</th>\n",
       "      <th>stop_time</th>\n",
       "      <th>driver_gender</th>\n",
       "      <th>driver_age_raw</th>\n",
       "      <th>driver_age</th>\n",
       "      <th>driver_race</th>\n",
       "      <th>violation</th>\n",
       "      <th>search_conducted</th>\n",
       "      <th>stop_outcome</th>\n",
       "      <th>is_arrested</th>\n",
       "      <th>drugs_related_stop</th>\n",
       "      <th>year</th>\n",
       "      <th>month</th>\n",
       "    </tr>\n",
       "  </thead>\n",
       "  <tbody>\n",
       "    <tr>\n",
       "      <th>71096</th>\n",
       "      <td>2005-11-22</td>\n",
       "      <td>2024-01-25 20:30:00</td>\n",
       "      <td>F</td>\n",
       "      <td>1989</td>\n",
       "      <td>16.0</td>\n",
       "      <td>White</td>\n",
       "      <td>Speeding</td>\n",
       "      <td>False</td>\n",
       "      <td>Citation</td>\n",
       "      <td>False</td>\n",
       "      <td>False</td>\n",
       "      <td>2005</td>\n",
       "      <td>11</td>\n",
       "    </tr>\n",
       "    <tr>\n",
       "      <th>74424</th>\n",
       "      <td>2006-10-11</td>\n",
       "      <td>2024-01-25 20:25:00</td>\n",
       "      <td>F</td>\n",
       "      <td>1990</td>\n",
       "      <td>16.0</td>\n",
       "      <td>White</td>\n",
       "      <td>Speeding</td>\n",
       "      <td>False</td>\n",
       "      <td>Citation</td>\n",
       "      <td>False</td>\n",
       "      <td>False</td>\n",
       "      <td>2006</td>\n",
       "      <td>10</td>\n",
       "    </tr>\n",
       "    <tr>\n",
       "      <th>79789</th>\n",
       "      <td>2008-09-16</td>\n",
       "      <td>2024-01-25 06:46:00</td>\n",
       "      <td>F</td>\n",
       "      <td>1992</td>\n",
       "      <td>16.0</td>\n",
       "      <td>White</td>\n",
       "      <td>Speeding</td>\n",
       "      <td>False</td>\n",
       "      <td>Citation</td>\n",
       "      <td>False</td>\n",
       "      <td>False</td>\n",
       "      <td>2008</td>\n",
       "      <td>9</td>\n",
       "    </tr>\n",
       "    <tr>\n",
       "      <th>85884</th>\n",
       "      <td>2013-11-02</td>\n",
       "      <td>2024-01-25 13:46:00</td>\n",
       "      <td>F</td>\n",
       "      <td>1997</td>\n",
       "      <td>16.0</td>\n",
       "      <td>White</td>\n",
       "      <td>Speeding</td>\n",
       "      <td>False</td>\n",
       "      <td>Citation</td>\n",
       "      <td>False</td>\n",
       "      <td>False</td>\n",
       "      <td>2013</td>\n",
       "      <td>11</td>\n",
       "    </tr>\n",
       "    <tr>\n",
       "      <th>86119</th>\n",
       "      <td>2015-08-19</td>\n",
       "      <td>2024-01-25 17:41:00</td>\n",
       "      <td>F</td>\n",
       "      <td>1999</td>\n",
       "      <td>16.0</td>\n",
       "      <td>White</td>\n",
       "      <td>Speeding</td>\n",
       "      <td>False</td>\n",
       "      <td>Citation</td>\n",
       "      <td>False</td>\n",
       "      <td>False</td>\n",
       "      <td>2015</td>\n",
       "      <td>8</td>\n",
       "    </tr>\n",
       "  </tbody>\n",
       "</table>\n",
       "</div>"
      ],
      "text/plain": [
       "       stop_date           stop_time driver_gender  driver_age_raw  \\\n",
       "71096 2005-11-22 2024-01-25 20:30:00             F            1989   \n",
       "74424 2006-10-11 2024-01-25 20:25:00             F            1990   \n",
       "79789 2008-09-16 2024-01-25 06:46:00             F            1992   \n",
       "85884 2013-11-02 2024-01-25 13:46:00             F            1997   \n",
       "86119 2015-08-19 2024-01-25 17:41:00             F            1999   \n",
       "\n",
       "       driver_age driver_race violation  search_conducted stop_outcome  \\\n",
       "71096        16.0       White  Speeding             False     Citation   \n",
       "74424        16.0       White  Speeding             False     Citation   \n",
       "79789        16.0       White  Speeding             False     Citation   \n",
       "85884        16.0       White  Speeding             False     Citation   \n",
       "86119        16.0       White  Speeding             False     Citation   \n",
       "\n",
       "       is_arrested  drugs_related_stop  year  month  \n",
       "71096        False               False  2005     11  \n",
       "74424        False               False  2006     10  \n",
       "79789        False               False  2008      9  \n",
       "85884        False               False  2013     11  \n",
       "86119        False               False  2015      8  "
      ]
     },
     "execution_count": 61,
     "metadata": {},
     "output_type": "execute_result"
    }
   ],
   "source": [
    "# print the informations on driver_age is less than 17\n",
    "# violation speeding, driver_gender is female\n",
    "df_1=df.loc[(df['driver_age']<17) & \n",
    "       (df.violation==\"Speeding\")&\n",
    "      (df.driver_gender==\"F\")]\n",
    "df_1.head()\n"
   ]
  },
  {
   "cell_type": "code",
   "execution_count": 62,
   "id": "e91007fc",
   "metadata": {},
   "outputs": [
    {
     "name": "stdout",
     "output_type": "stream",
     "text": [
      "Number of entries 6\n"
     ]
    }
   ],
   "source": [
    "print(\"Number of entries\", len(df_1))"
   ]
  },
  {
   "cell_type": "code",
   "execution_count": 64,
   "id": "123deafa",
   "metadata": {},
   "outputs": [
    {
     "data": {
      "text/html": [
       "<div>\n",
       "<style scoped>\n",
       "    .dataframe tbody tr th:only-of-type {\n",
       "        vertical-align: middle;\n",
       "    }\n",
       "\n",
       "    .dataframe tbody tr th {\n",
       "        vertical-align: top;\n",
       "    }\n",
       "\n",
       "    .dataframe thead th {\n",
       "        text-align: right;\n",
       "    }\n",
       "</style>\n",
       "<table border=\"1\" class=\"dataframe\">\n",
       "  <thead>\n",
       "    <tr style=\"text-align: right;\">\n",
       "      <th></th>\n",
       "      <th>stop_date</th>\n",
       "      <th>stop_time</th>\n",
       "      <th>driver_gender</th>\n",
       "      <th>driver_age_raw</th>\n",
       "      <th>driver_age</th>\n",
       "      <th>driver_race</th>\n",
       "      <th>violation</th>\n",
       "      <th>search_conducted</th>\n",
       "      <th>stop_outcome</th>\n",
       "      <th>is_arrested</th>\n",
       "      <th>drugs_related_stop</th>\n",
       "      <th>year</th>\n",
       "      <th>month</th>\n",
       "    </tr>\n",
       "  </thead>\n",
       "  <tbody>\n",
       "    <tr>\n",
       "      <th>82305</th>\n",
       "      <td>2012-12-13</td>\n",
       "      <td>2024-01-25 14:05:00</td>\n",
       "      <td>M</td>\n",
       "      <td>1993</td>\n",
       "      <td>19.0</td>\n",
       "      <td>Black</td>\n",
       "      <td>Seat belt</td>\n",
       "      <td>True</td>\n",
       "      <td>Citation</td>\n",
       "      <td>False</td>\n",
       "      <td>False</td>\n",
       "      <td>2012</td>\n",
       "      <td>12</td>\n",
       "    </tr>\n",
       "    <tr>\n",
       "      <th>83619</th>\n",
       "      <td>2013-01-06</td>\n",
       "      <td>2024-01-25 07:45:00</td>\n",
       "      <td>M</td>\n",
       "      <td>1994</td>\n",
       "      <td>19.0</td>\n",
       "      <td>White</td>\n",
       "      <td>Seat belt</td>\n",
       "      <td>False</td>\n",
       "      <td>Warning</td>\n",
       "      <td>False</td>\n",
       "      <td>False</td>\n",
       "      <td>2013</td>\n",
       "      <td>1</td>\n",
       "    </tr>\n",
       "    <tr>\n",
       "      <th>83658</th>\n",
       "      <td>2013-03-13</td>\n",
       "      <td>2024-01-25 10:54:00</td>\n",
       "      <td>M</td>\n",
       "      <td>1994</td>\n",
       "      <td>19.0</td>\n",
       "      <td>White</td>\n",
       "      <td>Seat belt</td>\n",
       "      <td>False</td>\n",
       "      <td>Citation</td>\n",
       "      <td>False</td>\n",
       "      <td>False</td>\n",
       "      <td>2013</td>\n",
       "      <td>3</td>\n",
       "    </tr>\n",
       "    <tr>\n",
       "      <th>83660</th>\n",
       "      <td>2013-03-20</td>\n",
       "      <td>2024-01-25 14:47:00</td>\n",
       "      <td>M</td>\n",
       "      <td>1994</td>\n",
       "      <td>19.0</td>\n",
       "      <td>White</td>\n",
       "      <td>Seat belt</td>\n",
       "      <td>False</td>\n",
       "      <td>Citation</td>\n",
       "      <td>False</td>\n",
       "      <td>False</td>\n",
       "      <td>2013</td>\n",
       "      <td>3</td>\n",
       "    </tr>\n",
       "    <tr>\n",
       "      <th>83679</th>\n",
       "      <td>2013-04-07</td>\n",
       "      <td>2024-01-25 15:17:00</td>\n",
       "      <td>M</td>\n",
       "      <td>1994</td>\n",
       "      <td>19.0</td>\n",
       "      <td>Black</td>\n",
       "      <td>Seat belt</td>\n",
       "      <td>False</td>\n",
       "      <td>Citation</td>\n",
       "      <td>False</td>\n",
       "      <td>False</td>\n",
       "      <td>2013</td>\n",
       "      <td>4</td>\n",
       "    </tr>\n",
       "  </tbody>\n",
       "</table>\n",
       "</div>"
      ],
      "text/plain": [
       "       stop_date           stop_time driver_gender  driver_age_raw  \\\n",
       "82305 2012-12-13 2024-01-25 14:05:00             M            1993   \n",
       "83619 2013-01-06 2024-01-25 07:45:00             M            1994   \n",
       "83658 2013-03-13 2024-01-25 10:54:00             M            1994   \n",
       "83660 2013-03-20 2024-01-25 14:47:00             M            1994   \n",
       "83679 2013-04-07 2024-01-25 15:17:00             M            1994   \n",
       "\n",
       "       driver_age driver_race  violation  search_conducted stop_outcome  \\\n",
       "82305        19.0       Black  Seat belt              True     Citation   \n",
       "83619        19.0       White  Seat belt             False      Warning   \n",
       "83658        19.0       White  Seat belt             False     Citation   \n",
       "83660        19.0       White  Seat belt             False     Citation   \n",
       "83679        19.0       Black  Seat belt             False     Citation   \n",
       "\n",
       "       is_arrested  drugs_related_stop  year  month  \n",
       "82305        False               False  2012     12  \n",
       "83619        False               False  2013      1  \n",
       "83658        False               False  2013      3  \n",
       "83660        False               False  2013      3  \n",
       "83679        False               False  2013      4  "
      ]
     },
     "execution_count": 64,
     "metadata": {},
     "output_type": "execute_result"
    }
   ],
   "source": [
    "# Find out the entries where driver_Age less than 20, male, Seat belt violation\n",
    "df_1=df.loc[(df['driver_age']<20) & \n",
    "       (df.violation==\"Seat belt\")&\n",
    "      (df.driver_gender==\"M\")]\n",
    "df_1.head()"
   ]
  },
  {
   "cell_type": "code",
   "execution_count": 65,
   "id": "9ee75cd0",
   "metadata": {},
   "outputs": [
    {
     "data": {
      "text/plain": [
       "95"
      ]
     },
     "execution_count": 65,
     "metadata": {},
     "output_type": "execute_result"
    }
   ],
   "source": [
    "len(df_1)"
   ]
  },
  {
   "cell_type": "code",
   "execution_count": 70,
   "id": "25dcd5e1",
   "metadata": {},
   "outputs": [
    {
     "data": {
      "text/html": [
       "<div>\n",
       "<style scoped>\n",
       "    .dataframe tbody tr th:only-of-type {\n",
       "        vertical-align: middle;\n",
       "    }\n",
       "\n",
       "    .dataframe tbody tr th {\n",
       "        vertical-align: top;\n",
       "    }\n",
       "\n",
       "    .dataframe thead th {\n",
       "        text-align: right;\n",
       "    }\n",
       "</style>\n",
       "<table border=\"1\" class=\"dataframe\">\n",
       "  <thead>\n",
       "    <tr style=\"text-align: right;\">\n",
       "      <th></th>\n",
       "      <th>driver_gender</th>\n",
       "      <th>driver_age_raw</th>\n",
       "      <th>driver_age</th>\n",
       "    </tr>\n",
       "  </thead>\n",
       "  <tbody>\n",
       "    <tr>\n",
       "      <th>82305</th>\n",
       "      <td>M</td>\n",
       "      <td>1993</td>\n",
       "      <td>19.0</td>\n",
       "    </tr>\n",
       "    <tr>\n",
       "      <th>83619</th>\n",
       "      <td>M</td>\n",
       "      <td>1994</td>\n",
       "      <td>19.0</td>\n",
       "    </tr>\n",
       "    <tr>\n",
       "      <th>83658</th>\n",
       "      <td>M</td>\n",
       "      <td>1994</td>\n",
       "      <td>19.0</td>\n",
       "    </tr>\n",
       "    <tr>\n",
       "      <th>83660</th>\n",
       "      <td>M</td>\n",
       "      <td>1994</td>\n",
       "      <td>19.0</td>\n",
       "    </tr>\n",
       "    <tr>\n",
       "      <th>83679</th>\n",
       "      <td>M</td>\n",
       "      <td>1994</td>\n",
       "      <td>19.0</td>\n",
       "    </tr>\n",
       "  </tbody>\n",
       "</table>\n",
       "</div>"
      ],
      "text/plain": [
       "      driver_gender  driver_age_raw  driver_age\n",
       "82305             M            1993        19.0\n",
       "83619             M            1994        19.0\n",
       "83658             M            1994        19.0\n",
       "83660             M            1994        19.0\n",
       "83679             M            1994        19.0"
      ]
     },
     "execution_count": 70,
     "metadata": {},
     "output_type": "execute_result"
    }
   ],
   "source": [
    "# iloc\n",
    "df_1.iloc[:5,2:5]"
   ]
  },
  {
   "cell_type": "markdown",
   "id": "8880293c",
   "metadata": {},
   "source": [
    "###  Sorting “sort_values()”"
   ]
  },
  {
   "cell_type": "code",
   "execution_count": 71,
   "id": "808e765b",
   "metadata": {},
   "outputs": [
    {
     "data": {
      "text/html": [
       "<div>\n",
       "<style scoped>\n",
       "    .dataframe tbody tr th:only-of-type {\n",
       "        vertical-align: middle;\n",
       "    }\n",
       "\n",
       "    .dataframe tbody tr th {\n",
       "        vertical-align: top;\n",
       "    }\n",
       "\n",
       "    .dataframe thead th {\n",
       "        text-align: right;\n",
       "    }\n",
       "</style>\n",
       "<table border=\"1\" class=\"dataframe\">\n",
       "  <thead>\n",
       "    <tr style=\"text-align: right;\">\n",
       "      <th></th>\n",
       "      <th>stop_date</th>\n",
       "      <th>stop_time</th>\n",
       "      <th>driver_gender</th>\n",
       "      <th>driver_age_raw</th>\n",
       "      <th>driver_age</th>\n",
       "      <th>driver_race</th>\n",
       "      <th>violation</th>\n",
       "      <th>search_conducted</th>\n",
       "      <th>stop_outcome</th>\n",
       "      <th>is_arrested</th>\n",
       "      <th>drugs_related_stop</th>\n",
       "      <th>year</th>\n",
       "      <th>month</th>\n",
       "    </tr>\n",
       "  </thead>\n",
       "  <tbody>\n",
       "    <tr>\n",
       "      <th>86101</th>\n",
       "      <td>2015-09-29</td>\n",
       "      <td>2024-01-25 15:26:00</td>\n",
       "      <td>M</td>\n",
       "      <td>1998</td>\n",
       "      <td>17.0</td>\n",
       "      <td>White</td>\n",
       "      <td>Seat belt</td>\n",
       "      <td>False</td>\n",
       "      <td>Citation</td>\n",
       "      <td>False</td>\n",
       "      <td>False</td>\n",
       "      <td>2015</td>\n",
       "      <td>9</td>\n",
       "    </tr>\n",
       "    <tr>\n",
       "      <th>86094</th>\n",
       "      <td>2015-09-06</td>\n",
       "      <td>2024-01-25 16:29:00</td>\n",
       "      <td>M</td>\n",
       "      <td>1998</td>\n",
       "      <td>17.0</td>\n",
       "      <td>Hispanic</td>\n",
       "      <td>Seat belt</td>\n",
       "      <td>False</td>\n",
       "      <td>Warning</td>\n",
       "      <td>False</td>\n",
       "      <td>False</td>\n",
       "      <td>2015</td>\n",
       "      <td>9</td>\n",
       "    </tr>\n",
       "    <tr>\n",
       "      <th>85892</th>\n",
       "      <td>2014-04-24</td>\n",
       "      <td>2024-01-25 22:45:00</td>\n",
       "      <td>M</td>\n",
       "      <td>1997</td>\n",
       "      <td>17.0</td>\n",
       "      <td>Hispanic</td>\n",
       "      <td>Seat belt</td>\n",
       "      <td>False</td>\n",
       "      <td>Citation</td>\n",
       "      <td>False</td>\n",
       "      <td>False</td>\n",
       "      <td>2014</td>\n",
       "      <td>4</td>\n",
       "    </tr>\n",
       "    <tr>\n",
       "      <th>85916</th>\n",
       "      <td>2014-08-21</td>\n",
       "      <td>2024-01-25 14:13:00</td>\n",
       "      <td>M</td>\n",
       "      <td>1997</td>\n",
       "      <td>17.0</td>\n",
       "      <td>Black</td>\n",
       "      <td>Seat belt</td>\n",
       "      <td>False</td>\n",
       "      <td>Citation</td>\n",
       "      <td>False</td>\n",
       "      <td>False</td>\n",
       "      <td>2014</td>\n",
       "      <td>8</td>\n",
       "    </tr>\n",
       "    <tr>\n",
       "      <th>85483</th>\n",
       "      <td>2013-12-30</td>\n",
       "      <td>2024-01-25 14:42:00</td>\n",
       "      <td>M</td>\n",
       "      <td>1996</td>\n",
       "      <td>17.0</td>\n",
       "      <td>White</td>\n",
       "      <td>Seat belt</td>\n",
       "      <td>False</td>\n",
       "      <td>Citation</td>\n",
       "      <td>False</td>\n",
       "      <td>False</td>\n",
       "      <td>2013</td>\n",
       "      <td>12</td>\n",
       "    </tr>\n",
       "    <tr>\n",
       "      <th>...</th>\n",
       "      <td>...</td>\n",
       "      <td>...</td>\n",
       "      <td>...</td>\n",
       "      <td>...</td>\n",
       "      <td>...</td>\n",
       "      <td>...</td>\n",
       "      <td>...</td>\n",
       "      <td>...</td>\n",
       "      <td>...</td>\n",
       "      <td>...</td>\n",
       "      <td>...</td>\n",
       "      <td>...</td>\n",
       "      <td>...</td>\n",
       "    </tr>\n",
       "    <tr>\n",
       "      <th>84856</th>\n",
       "      <td>2014-04-08</td>\n",
       "      <td>2024-01-25 23:34:00</td>\n",
       "      <td>M</td>\n",
       "      <td>1995</td>\n",
       "      <td>19.0</td>\n",
       "      <td>Hispanic</td>\n",
       "      <td>Seat belt</td>\n",
       "      <td>False</td>\n",
       "      <td>Citation</td>\n",
       "      <td>False</td>\n",
       "      <td>False</td>\n",
       "      <td>2014</td>\n",
       "      <td>4</td>\n",
       "    </tr>\n",
       "    <tr>\n",
       "      <th>84837</th>\n",
       "      <td>2014-03-17</td>\n",
       "      <td>2024-01-25 21:37:00</td>\n",
       "      <td>M</td>\n",
       "      <td>1995</td>\n",
       "      <td>19.0</td>\n",
       "      <td>White</td>\n",
       "      <td>Seat belt</td>\n",
       "      <td>False</td>\n",
       "      <td>Citation</td>\n",
       "      <td>False</td>\n",
       "      <td>False</td>\n",
       "      <td>2014</td>\n",
       "      <td>3</td>\n",
       "    </tr>\n",
       "    <tr>\n",
       "      <th>84926</th>\n",
       "      <td>2014-06-25</td>\n",
       "      <td>2024-01-25 00:22:00</td>\n",
       "      <td>M</td>\n",
       "      <td>1995</td>\n",
       "      <td>19.0</td>\n",
       "      <td>Black</td>\n",
       "      <td>Seat belt</td>\n",
       "      <td>False</td>\n",
       "      <td>Arrest Passenger</td>\n",
       "      <td>True</td>\n",
       "      <td>False</td>\n",
       "      <td>2014</td>\n",
       "      <td>6</td>\n",
       "    </tr>\n",
       "    <tr>\n",
       "      <th>85650</th>\n",
       "      <td>2015-03-28</td>\n",
       "      <td>2024-01-25 13:20:00</td>\n",
       "      <td>M</td>\n",
       "      <td>1996</td>\n",
       "      <td>19.0</td>\n",
       "      <td>White</td>\n",
       "      <td>Seat belt</td>\n",
       "      <td>False</td>\n",
       "      <td>Citation</td>\n",
       "      <td>False</td>\n",
       "      <td>False</td>\n",
       "      <td>2015</td>\n",
       "      <td>3</td>\n",
       "    </tr>\n",
       "    <tr>\n",
       "      <th>82305</th>\n",
       "      <td>2012-12-13</td>\n",
       "      <td>2024-01-25 14:05:00</td>\n",
       "      <td>M</td>\n",
       "      <td>1993</td>\n",
       "      <td>19.0</td>\n",
       "      <td>Black</td>\n",
       "      <td>Seat belt</td>\n",
       "      <td>True</td>\n",
       "      <td>Citation</td>\n",
       "      <td>False</td>\n",
       "      <td>False</td>\n",
       "      <td>2012</td>\n",
       "      <td>12</td>\n",
       "    </tr>\n",
       "  </tbody>\n",
       "</table>\n",
       "<p>95 rows × 13 columns</p>\n",
       "</div>"
      ],
      "text/plain": [
       "       stop_date           stop_time driver_gender  driver_age_raw  \\\n",
       "86101 2015-09-29 2024-01-25 15:26:00             M            1998   \n",
       "86094 2015-09-06 2024-01-25 16:29:00             M            1998   \n",
       "85892 2014-04-24 2024-01-25 22:45:00             M            1997   \n",
       "85916 2014-08-21 2024-01-25 14:13:00             M            1997   \n",
       "85483 2013-12-30 2024-01-25 14:42:00             M            1996   \n",
       "...          ...                 ...           ...             ...   \n",
       "84856 2014-04-08 2024-01-25 23:34:00             M            1995   \n",
       "84837 2014-03-17 2024-01-25 21:37:00             M            1995   \n",
       "84926 2014-06-25 2024-01-25 00:22:00             M            1995   \n",
       "85650 2015-03-28 2024-01-25 13:20:00             M            1996   \n",
       "82305 2012-12-13 2024-01-25 14:05:00             M            1993   \n",
       "\n",
       "       driver_age driver_race  violation  search_conducted      stop_outcome  \\\n",
       "86101        17.0       White  Seat belt             False          Citation   \n",
       "86094        17.0    Hispanic  Seat belt             False           Warning   \n",
       "85892        17.0    Hispanic  Seat belt             False          Citation   \n",
       "85916        17.0       Black  Seat belt             False          Citation   \n",
       "85483        17.0       White  Seat belt             False          Citation   \n",
       "...           ...         ...        ...               ...               ...   \n",
       "84856        19.0    Hispanic  Seat belt             False          Citation   \n",
       "84837        19.0       White  Seat belt             False          Citation   \n",
       "84926        19.0       Black  Seat belt             False  Arrest Passenger   \n",
       "85650        19.0       White  Seat belt             False          Citation   \n",
       "82305        19.0       Black  Seat belt              True          Citation   \n",
       "\n",
       "       is_arrested  drugs_related_stop  year  month  \n",
       "86101        False               False  2015      9  \n",
       "86094        False               False  2015      9  \n",
       "85892        False               False  2014      4  \n",
       "85916        False               False  2014      8  \n",
       "85483        False               False  2013     12  \n",
       "...            ...                 ...   ...    ...  \n",
       "84856        False               False  2014      4  \n",
       "84837        False               False  2014      3  \n",
       "84926         True               False  2014      6  \n",
       "85650        False               False  2015      3  \n",
       "82305        False               False  2012     12  \n",
       "\n",
       "[95 rows x 13 columns]"
      ]
     },
     "execution_count": 71,
     "metadata": {},
     "output_type": "execute_result"
    }
   ],
   "source": [
    "df_1.sort_values(by=\"driver_age\")"
   ]
  },
  {
   "cell_type": "markdown",
   "id": "64b6bc3b",
   "metadata": {},
   "source": [
    "### `Query` filter our data frame as per our conditions. It only works if the column name has no space"
   ]
  },
  {
   "cell_type": "code",
   "execution_count": 51,
   "id": "3bd17e15",
   "metadata": {},
   "outputs": [],
   "source": [
    "#df.columns=[column.replace(\" \", \"_\") for column in df.columns]"
   ]
  },
  {
   "cell_type": "code",
   "execution_count": 74,
   "id": "6758f84d",
   "metadata": {},
   "outputs": [
    {
     "data": {
      "text/html": [
       "<div>\n",
       "<style scoped>\n",
       "    .dataframe tbody tr th:only-of-type {\n",
       "        vertical-align: middle;\n",
       "    }\n",
       "\n",
       "    .dataframe tbody tr th {\n",
       "        vertical-align: top;\n",
       "    }\n",
       "\n",
       "    .dataframe thead th {\n",
       "        text-align: right;\n",
       "    }\n",
       "</style>\n",
       "<table border=\"1\" class=\"dataframe\">\n",
       "  <thead>\n",
       "    <tr style=\"text-align: right;\">\n",
       "      <th></th>\n",
       "      <th>stop_date</th>\n",
       "      <th>stop_time</th>\n",
       "      <th>driver_gender</th>\n",
       "      <th>driver_age_raw</th>\n",
       "      <th>driver_age</th>\n",
       "      <th>driver_race</th>\n",
       "      <th>violation</th>\n",
       "      <th>search_conducted</th>\n",
       "      <th>stop_outcome</th>\n",
       "      <th>is_arrested</th>\n",
       "      <th>drugs_related_stop</th>\n",
       "      <th>year</th>\n",
       "      <th>month</th>\n",
       "    </tr>\n",
       "  </thead>\n",
       "  <tbody>\n",
       "    <tr>\n",
       "      <th>7121</th>\n",
       "      <td>2005-10-04</td>\n",
       "      <td>2024-01-25 01:20:00</td>\n",
       "      <td>M</td>\n",
       "      <td>1956</td>\n",
       "      <td>49.0</td>\n",
       "      <td>White</td>\n",
       "      <td>Moving violation</td>\n",
       "      <td>True</td>\n",
       "      <td>Arrest Driver</td>\n",
       "      <td>True</td>\n",
       "      <td>True</td>\n",
       "      <td>2005</td>\n",
       "      <td>10</td>\n",
       "    </tr>\n",
       "    <tr>\n",
       "      <th>7122</th>\n",
       "      <td>2005-10-16</td>\n",
       "      <td>2024-01-25 20:35:00</td>\n",
       "      <td>M</td>\n",
       "      <td>1956</td>\n",
       "      <td>49.0</td>\n",
       "      <td>White</td>\n",
       "      <td>Speeding</td>\n",
       "      <td>False</td>\n",
       "      <td>Citation</td>\n",
       "      <td>False</td>\n",
       "      <td>False</td>\n",
       "      <td>2005</td>\n",
       "      <td>10</td>\n",
       "    </tr>\n",
       "    <tr>\n",
       "      <th>7123</th>\n",
       "      <td>2005-10-18</td>\n",
       "      <td>2024-01-25 11:08:00</td>\n",
       "      <td>M</td>\n",
       "      <td>1956</td>\n",
       "      <td>49.0</td>\n",
       "      <td>White</td>\n",
       "      <td>Moving violation</td>\n",
       "      <td>False</td>\n",
       "      <td>Citation</td>\n",
       "      <td>False</td>\n",
       "      <td>False</td>\n",
       "      <td>2005</td>\n",
       "      <td>10</td>\n",
       "    </tr>\n",
       "    <tr>\n",
       "      <th>7124</th>\n",
       "      <td>2005-10-19</td>\n",
       "      <td>2024-01-25 01:00:00</td>\n",
       "      <td>M</td>\n",
       "      <td>1956</td>\n",
       "      <td>49.0</td>\n",
       "      <td>White</td>\n",
       "      <td>Registration/plates</td>\n",
       "      <td>True</td>\n",
       "      <td>Arrest Driver</td>\n",
       "      <td>True</td>\n",
       "      <td>False</td>\n",
       "      <td>2005</td>\n",
       "      <td>10</td>\n",
       "    </tr>\n",
       "    <tr>\n",
       "      <th>7125</th>\n",
       "      <td>2005-10-22</td>\n",
       "      <td>2024-01-25 14:55:00</td>\n",
       "      <td>F</td>\n",
       "      <td>1956</td>\n",
       "      <td>49.0</td>\n",
       "      <td>White</td>\n",
       "      <td>Speeding</td>\n",
       "      <td>False</td>\n",
       "      <td>Citation</td>\n",
       "      <td>False</td>\n",
       "      <td>False</td>\n",
       "      <td>2005</td>\n",
       "      <td>10</td>\n",
       "    </tr>\n",
       "  </tbody>\n",
       "</table>\n",
       "</div>"
      ],
      "text/plain": [
       "      stop_date           stop_time driver_gender  driver_age_raw  driver_age  \\\n",
       "7121 2005-10-04 2024-01-25 01:20:00             M            1956        49.0   \n",
       "7122 2005-10-16 2024-01-25 20:35:00             M            1956        49.0   \n",
       "7123 2005-10-18 2024-01-25 11:08:00             M            1956        49.0   \n",
       "7124 2005-10-19 2024-01-25 01:00:00             M            1956        49.0   \n",
       "7125 2005-10-22 2024-01-25 14:55:00             F            1956        49.0   \n",
       "\n",
       "     driver_race            violation  search_conducted   stop_outcome  \\\n",
       "7121       White     Moving violation              True  Arrest Driver   \n",
       "7122       White             Speeding             False       Citation   \n",
       "7123       White     Moving violation             False       Citation   \n",
       "7124       White  Registration/plates              True  Arrest Driver   \n",
       "7125       White             Speeding             False       Citation   \n",
       "\n",
       "      is_arrested  drugs_related_stop  year  month  \n",
       "7121         True                True  2005     10  \n",
       "7122        False               False  2005     10  \n",
       "7123        False               False  2005     10  \n",
       "7124         True               False  2005     10  \n",
       "7125        False               False  2005     10  "
      ]
     },
     "execution_count": 74,
     "metadata": {},
     "output_type": "execute_result"
    }
   ],
   "source": [
    "# age more than 45 and less than 50, print top 5\n",
    "df.query('driver_age>45 & driver_age<50').head()"
   ]
  },
  {
   "cell_type": "code",
   "execution_count": 77,
   "id": "a3ecea88",
   "metadata": {},
   "outputs": [],
   "source": [
    "# driver is 17 years old, violation Speeding and gender M\n",
    "df_new=df.query('driver_age==17 & violation==\"Speeding\" & driver_gender==\"M\"')"
   ]
  },
  {
   "cell_type": "markdown",
   "id": "68008857",
   "metadata": {},
   "source": [
    "## Save dataframe to CSV format"
   ]
  },
  {
   "cell_type": "code",
   "execution_count": 78,
   "id": "e265c801",
   "metadata": {},
   "outputs": [],
   "source": [
    "df_new.to_csv(\"Police_v1.csv\", \n",
    "          index=False)"
   ]
  },
  {
   "cell_type": "code",
   "execution_count": 80,
   "id": "1d3d0169",
   "metadata": {},
   "outputs": [
    {
     "data": {
      "text/html": [
       "<div>\n",
       "<style scoped>\n",
       "    .dataframe tbody tr th:only-of-type {\n",
       "        vertical-align: middle;\n",
       "    }\n",
       "\n",
       "    .dataframe tbody tr th {\n",
       "        vertical-align: top;\n",
       "    }\n",
       "\n",
       "    .dataframe thead th {\n",
       "        text-align: right;\n",
       "    }\n",
       "</style>\n",
       "<table border=\"1\" class=\"dataframe\">\n",
       "  <thead>\n",
       "    <tr style=\"text-align: right;\">\n",
       "      <th></th>\n",
       "      <th>stop_time</th>\n",
       "      <th>driver_gender</th>\n",
       "      <th>driver_age_raw</th>\n",
       "      <th>driver_age</th>\n",
       "      <th>driver_race</th>\n",
       "      <th>violation</th>\n",
       "      <th>search_conducted</th>\n",
       "      <th>stop_outcome</th>\n",
       "      <th>is_arrested</th>\n",
       "      <th>drugs_related_stop</th>\n",
       "      <th>year</th>\n",
       "      <th>month</th>\n",
       "    </tr>\n",
       "    <tr>\n",
       "      <th>stop_date</th>\n",
       "      <th></th>\n",
       "      <th></th>\n",
       "      <th></th>\n",
       "      <th></th>\n",
       "      <th></th>\n",
       "      <th></th>\n",
       "      <th></th>\n",
       "      <th></th>\n",
       "      <th></th>\n",
       "      <th></th>\n",
       "      <th></th>\n",
       "      <th></th>\n",
       "    </tr>\n",
       "  </thead>\n",
       "  <tbody>\n",
       "    <tr>\n",
       "      <th>2005-09-30</th>\n",
       "      <td>2024-01-25 20:17:00</td>\n",
       "      <td>M</td>\n",
       "      <td>1988</td>\n",
       "      <td>17.0</td>\n",
       "      <td>White</td>\n",
       "      <td>Speeding</td>\n",
       "      <td>False</td>\n",
       "      <td>Citation</td>\n",
       "      <td>False</td>\n",
       "      <td>False</td>\n",
       "      <td>2005</td>\n",
       "      <td>9</td>\n",
       "    </tr>\n",
       "    <tr>\n",
       "      <th>2005-10-03</th>\n",
       "      <td>2024-01-25 07:05:00</td>\n",
       "      <td>M</td>\n",
       "      <td>1988</td>\n",
       "      <td>17.0</td>\n",
       "      <td>White</td>\n",
       "      <td>Speeding</td>\n",
       "      <td>False</td>\n",
       "      <td>Citation</td>\n",
       "      <td>False</td>\n",
       "      <td>False</td>\n",
       "      <td>2005</td>\n",
       "      <td>10</td>\n",
       "    </tr>\n",
       "    <tr>\n",
       "      <th>2005-10-15</th>\n",
       "      <td>2024-01-25 19:30:00</td>\n",
       "      <td>M</td>\n",
       "      <td>1988</td>\n",
       "      <td>17.0</td>\n",
       "      <td>White</td>\n",
       "      <td>Speeding</td>\n",
       "      <td>False</td>\n",
       "      <td>Citation</td>\n",
       "      <td>False</td>\n",
       "      <td>False</td>\n",
       "      <td>2005</td>\n",
       "      <td>10</td>\n",
       "    </tr>\n",
       "    <tr>\n",
       "      <th>2005-10-16</th>\n",
       "      <td>2024-01-25 17:45:00</td>\n",
       "      <td>M</td>\n",
       "      <td>1988</td>\n",
       "      <td>17.0</td>\n",
       "      <td>Black</td>\n",
       "      <td>Speeding</td>\n",
       "      <td>False</td>\n",
       "      <td>Citation</td>\n",
       "      <td>False</td>\n",
       "      <td>False</td>\n",
       "      <td>2005</td>\n",
       "      <td>10</td>\n",
       "    </tr>\n",
       "    <tr>\n",
       "      <th>2005-10-17</th>\n",
       "      <td>2024-01-25 13:51:00</td>\n",
       "      <td>M</td>\n",
       "      <td>1988</td>\n",
       "      <td>17.0</td>\n",
       "      <td>White</td>\n",
       "      <td>Speeding</td>\n",
       "      <td>False</td>\n",
       "      <td>Citation</td>\n",
       "      <td>False</td>\n",
       "      <td>False</td>\n",
       "      <td>2005</td>\n",
       "      <td>10</td>\n",
       "    </tr>\n",
       "  </tbody>\n",
       "</table>\n",
       "</div>"
      ],
      "text/plain": [
       "                      stop_time driver_gender  driver_age_raw  driver_age  \\\n",
       "stop_date                                                                   \n",
       "2005-09-30  2024-01-25 20:17:00             M            1988        17.0   \n",
       "2005-10-03  2024-01-25 07:05:00             M            1988        17.0   \n",
       "2005-10-15  2024-01-25 19:30:00             M            1988        17.0   \n",
       "2005-10-16  2024-01-25 17:45:00             M            1988        17.0   \n",
       "2005-10-17  2024-01-25 13:51:00             M            1988        17.0   \n",
       "\n",
       "           driver_race violation  search_conducted stop_outcome  is_arrested  \\\n",
       "stop_date                                                                      \n",
       "2005-09-30       White  Speeding             False     Citation        False   \n",
       "2005-10-03       White  Speeding             False     Citation        False   \n",
       "2005-10-15       White  Speeding             False     Citation        False   \n",
       "2005-10-16       Black  Speeding             False     Citation        False   \n",
       "2005-10-17       White  Speeding             False     Citation        False   \n",
       "\n",
       "            drugs_related_stop  year  month  \n",
       "stop_date                                    \n",
       "2005-09-30               False  2005      9  \n",
       "2005-10-03               False  2005     10  \n",
       "2005-10-15               False  2005     10  \n",
       "2005-10-16               False  2005     10  \n",
       "2005-10-17               False  2005     10  "
      ]
     },
     "execution_count": 80,
     "metadata": {},
     "output_type": "execute_result"
    }
   ],
   "source": [
    "df1= pd.read_csv(\"Police_v1.csv\",\n",
    "           index_col=[0])\n",
    "df1.head()"
   ]
  },
  {
   "cell_type": "code",
   "execution_count": null,
   "id": "05922a55",
   "metadata": {},
   "outputs": [],
   "source": []
  }
 ],
 "metadata": {
  "kernelspec": {
   "display_name": "Python 3 (ipykernel)",
   "language": "python",
   "name": "python3"
  },
  "language_info": {
   "codemirror_mode": {
    "name": "ipython",
    "version": 3
   },
   "file_extension": ".py",
   "mimetype": "text/x-python",
   "name": "python",
   "nbconvert_exporter": "python",
   "pygments_lexer": "ipython3",
   "version": "3.11.4"
  }
 },
 "nbformat": 4,
 "nbformat_minor": 5
}
